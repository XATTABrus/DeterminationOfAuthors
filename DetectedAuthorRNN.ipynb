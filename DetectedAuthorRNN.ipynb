{
 "cells": [
  {
   "cell_type": "markdown",
   "metadata": {
    "deletable": true,
    "editable": true
   },
   "source": [
    "# Определение авторства статьи на основе нейронных сетей\n",
    "### Постановка задачи:\n",
    "* ......\n",
    "* ......"
   ]
  },
  {
   "cell_type": "markdown",
   "metadata": {
    "deletable": true,
    "editable": true
   },
   "source": [
    "**Распоковка датасета**"
   ]
  },
  {
   "cell_type": "code",
   "execution_count": 1,
   "metadata": {
    "collapsed": false,
    "deletable": true,
    "editable": true
   },
   "outputs": [
    {
     "name": "stdout",
     "output_type": "stream",
     "text": [
      "Archive:  dataset.zip\n",
      "Success\n"
     ]
    }
   ],
   "source": [
    "!unzip -u dataset.zip\n",
    "print('Success')"
   ]
  },
  {
   "cell_type": "code",
   "execution_count": 2,
   "metadata": {
    "collapsed": false,
    "deletable": true,
    "editable": true
   },
   "outputs": [
    {
     "name": "stdout",
     "output_type": "stream",
     "text": [
      "  adding: datasetHabrahabr.csv (deflated 76%)\n"
     ]
    }
   ],
   "source": [
    "!zip -r datasetCSV.zip datasetHabrahabr.csv"
   ]
  },
  {
   "cell_type": "markdown",
   "metadata": {
    "deletable": true,
    "editable": true
   },
   "source": [
    "**Импорт пакетов**"
   ]
  },
  {
   "cell_type": "code",
   "execution_count": 21,
   "metadata": {
    "collapsed": false,
    "deletable": true,
    "editable": true
   },
   "outputs": [],
   "source": [
    "from matplotlib import pyplot as plt\n",
    "from sklearn.preprocessing import LabelEncoder, OneHotEncoder\n",
    "from sklearn.model_selection import train_test_split\n",
    "from keras.preprocessing.text import Tokenizer\n",
    "from keras.models import Sequential\n",
    "from keras.layers import Dense, Activation, Embedding\n",
    "from keras.layers import LSTM, SpatialDropout1D, Conv1D, GlobalMaxPooling1D, Flatten\n",
    "from keras.layers.core import Dropout\n",
    "import numpy as np\n",
    "import pandas as pd\n",
    "import keras\n",
    "import codecs\n",
    "import os\n",
    "\n",
    "%matplotlib inline"
   ]
  },
  {
   "cell_type": "markdown",
   "metadata": {
    "deletable": true,
    "editable": true
   },
   "source": [
    "**Загрузка готового набора данных**"
   ]
  },
  {
   "cell_type": "code",
   "execution_count": 2,
   "metadata": {
    "collapsed": false,
    "deletable": true,
    "editable": true
   },
   "outputs": [
    {
     "data": {
      "text/html": [
       "<div>\n",
       "<table border=\"1\" class=\"dataframe\">\n",
       "  <thead>\n",
       "    <tr style=\"text-align: right;\">\n",
       "      <th></th>\n",
       "      <th>Author</th>\n",
       "      <th>Text</th>\n",
       "      <th>TextLem</th>\n",
       "    </tr>\n",
       "  </thead>\n",
       "  <tbody>\n",
       "    <tr>\n",
       "      <th>0</th>\n",
       "      <td>25</td>\n",
       "      <td>В шестой части серии учебных материалов, посв...</td>\n",
       "      <td>в шесть часть серия учебный материалов, посвят...</td>\n",
       "    </tr>\n",
       "    <tr>\n",
       "      <th>1</th>\n",
       "      <td>25</td>\n",
       "      <td>С каждым новом поколением процессоры Intel вб...</td>\n",
       "      <td>с каждый новый поколение процессор intel вбира...</td>\n",
       "    </tr>\n",
       "    <tr>\n",
       "      <th>2</th>\n",
       "      <td>25</td>\n",
       "      <td>Статья в блоге Intel «Прокачай свой жесткий д...</td>\n",
       "      <td>статья в блог intel «прокачать свой жёсткий ди...</td>\n",
       "    </tr>\n",
       "    <tr>\n",
       "      <th>3</th>\n",
       "      <td>25</td>\n",
       "      <td>Испанская компания с говорящим названием Geek...</td>\n",
       "      <td>испанский компания с говорящий название geeksp...</td>\n",
       "    </tr>\n",
       "    <tr>\n",
       "      <th>4</th>\n",
       "      <td>25</td>\n",
       "      <td>igzip — высокопроизводительная библиотека для...</td>\n",
       "      <td>igzip — высокопроизводительный библиотека для ...</td>\n",
       "    </tr>\n",
       "  </tbody>\n",
       "</table>\n",
       "</div>"
      ],
      "text/plain": [
       "   Author                                               Text  \\\n",
       "0      25   В шестой части серии учебных материалов, посв...   \n",
       "1      25   С каждым новом поколением процессоры Intel вб...   \n",
       "2      25   Статья в блоге Intel «Прокачай свой жесткий д...   \n",
       "3      25   Испанская компания с говорящим названием Geek...   \n",
       "4      25   igzip — высокопроизводительная библиотека для...   \n",
       "\n",
       "                                             TextLem  \n",
       "0  в шесть часть серия учебный материалов, посвят...  \n",
       "1  с каждый новый поколение процессор intel вбира...  \n",
       "2  статья в блог intel «прокачать свой жёсткий ди...  \n",
       "3  испанский компания с говорящий название geeksp...  \n",
       "4  igzip — высокопроизводительный библиотека для ...  "
      ]
     },
     "execution_count": 2,
     "metadata": {},
     "output_type": "execute_result"
    }
   ],
   "source": [
    "data = pd.read_csv('datasetHabrahabr.csv')\n",
    "data.head()"
   ]
  },
  {
   "cell_type": "markdown",
   "metadata": {
    "deletable": true,
    "editable": true
   },
   "source": [
    "**Загрузка тестовых документов**"
   ]
  },
  {
   "cell_type": "code",
   "execution_count": 3,
   "metadata": {
    "collapsed": true,
    "deletable": true,
    "editable": true
   },
   "outputs": [],
   "source": [
    "def get_dataset_from_files():\n",
    "    #path = 'D:\\Разработка\\DataScience\\Habrahabr'\n",
    "    path = 'Habrahabr/'\n",
    "    files = os.listdir(path)\n",
    "    data_frame = pd.DataFrame()\n",
    "\n",
    "    for file_name in files:\n",
    "        file_obj = codecs.open(path + file_name, \"r\", \"utf_8_sig\" )\n",
    "        file_temp = file_obj.read()\n",
    "        url = file_temp[file_temp.find('url:') + 5:file_temp.find('title:')].rstrip()\n",
    "        title = file_temp[file_temp.find('title:') + 7:file_temp.find('text:')].rstrip()\n",
    "        text = file_temp[file_temp.find('text:') + 5:file_temp.find('author:')].rstrip()\n",
    "        author = file_temp[file_temp.find('author:') + 8:].rstrip()\n",
    "        row = pd.Series([url, title, text, author], index=['Url', 'Title', 'Text', 'Author'])\n",
    "        data_frame = data_frame.append(row, ignore_index=True)\n",
    "        file_obj.close()\n",
    "        \n",
    "    return data_frame"
   ]
  },
  {
   "cell_type": "code",
   "execution_count": 4,
   "metadata": {
    "collapsed": true,
    "deletable": true,
    "editable": true
   },
   "outputs": [],
   "source": [
    "#data = get_dataset_from_files()"
   ]
  },
  {
   "cell_type": "markdown",
   "metadata": {
    "deletable": true,
    "editable": true
   },
   "source": [
    "**Подсчет количества слов в каждой статье**"
   ]
  },
  {
   "cell_type": "code",
   "execution_count": 5,
   "metadata": {
    "collapsed": false,
    "deletable": true,
    "editable": true
   },
   "outputs": [
    {
     "name": "stdout",
     "output_type": "stream",
     "text": [
      "Количество статей в корпусе: 3381\n"
     ]
    },
    {
     "data": {
      "text/html": [
       "<div>\n",
       "<table border=\"1\" class=\"dataframe\">\n",
       "  <thead>\n",
       "    <tr style=\"text-align: right;\">\n",
       "      <th></th>\n",
       "      <th>Author</th>\n",
       "      <th>Text</th>\n",
       "      <th>TextLem</th>\n",
       "      <th>CountWords</th>\n",
       "    </tr>\n",
       "  </thead>\n",
       "  <tbody>\n",
       "    <tr>\n",
       "      <th>0</th>\n",
       "      <td>25</td>\n",
       "      <td>В шестой части серии учебных материалов, посв...</td>\n",
       "      <td>в шесть часть серия учебный материалов, посвят...</td>\n",
       "      <td>2260</td>\n",
       "    </tr>\n",
       "    <tr>\n",
       "      <th>1</th>\n",
       "      <td>25</td>\n",
       "      <td>С каждым новом поколением процессоры Intel вб...</td>\n",
       "      <td>с каждый новый поколение процессор intel вбира...</td>\n",
       "      <td>756</td>\n",
       "    </tr>\n",
       "    <tr>\n",
       "      <th>2</th>\n",
       "      <td>25</td>\n",
       "      <td>Статья в блоге Intel «Прокачай свой жесткий д...</td>\n",
       "      <td>статья в блог intel «прокачать свой жёсткий ди...</td>\n",
       "      <td>795</td>\n",
       "    </tr>\n",
       "    <tr>\n",
       "      <th>3</th>\n",
       "      <td>25</td>\n",
       "      <td>Испанская компания с говорящим названием Geek...</td>\n",
       "      <td>испанский компания с говорящий название geeksp...</td>\n",
       "      <td>107</td>\n",
       "    </tr>\n",
       "    <tr>\n",
       "      <th>4</th>\n",
       "      <td>25</td>\n",
       "      <td>igzip — высокопроизводительная библиотека для...</td>\n",
       "      <td>igzip — высокопроизводительный библиотека для ...</td>\n",
       "      <td>1534</td>\n",
       "    </tr>\n",
       "  </tbody>\n",
       "</table>\n",
       "</div>"
      ],
      "text/plain": [
       "   Author                                               Text  \\\n",
       "0      25   В шестой части серии учебных материалов, посв...   \n",
       "1      25   С каждым новом поколением процессоры Intel вб...   \n",
       "2      25   Статья в блоге Intel «Прокачай свой жесткий д...   \n",
       "3      25   Испанская компания с говорящим названием Geek...   \n",
       "4      25   igzip — высокопроизводительная библиотека для...   \n",
       "\n",
       "                                             TextLem  CountWords  \n",
       "0  в шесть часть серия учебный материалов, посвят...        2260  \n",
       "1  с каждый новый поколение процессор intel вбира...         756  \n",
       "2  статья в блог intel «прокачать свой жёсткий ди...         795  \n",
       "3  испанский компания с говорящий название geeksp...         107  \n",
       "4  igzip — высокопроизводительный библиотека для ...        1534  "
      ]
     },
     "execution_count": 5,
     "metadata": {},
     "output_type": "execute_result"
    }
   ],
   "source": [
    "data['CountWords'] = data['Text'].map(lambda x: len(x.split()))\n",
    "print('Количество статей в корпусе:', len(data))\n",
    "data.head()"
   ]
  },
  {
   "cell_type": "code",
   "execution_count": 6,
   "metadata": {
    "collapsed": false,
    "deletable": true,
    "editable": true
   },
   "outputs": [
    {
     "data": {
      "image/png": "[encoded data removed]",
      "text/plain": [
       "<matplotlib.figure.Figure at 0x7f02905ed9b0>"
      ]
     },
     "metadata": {},
     "output_type": "display_data"
    }
   ],
   "source": [
    "data.CountWords.plot(kind='bar', figsize=(15, 5), title=\"Number of worlds in texts\");"
   ]
  },
  {
   "cell_type": "markdown",
   "metadata": {
    "deletable": true,
    "editable": true
   },
   "source": [
    "**Количество статей у каждого пользователя**"
   ]
  },
  {
   "cell_type": "code",
   "execution_count": 26,
   "metadata": {
    "collapsed": true,
    "deletable": true,
    "editable": true
   },
   "outputs": [],
   "source": [
    "num_classes = 29"
   ]
  },
  {
   "cell_type": "code",
   "execution_count": 8,
   "metadata": {
    "collapsed": false,
    "deletable": true,
    "editable": true,
    "scrolled": false
   },
   "outputs": [
    {
     "data": {
      "image/png": "[encoded data removed]",
      "text/plain": [
       "<matplotlib.figure.Figure at 0x7f028e0cf400>"
      ]
     },
     "metadata": {},
     "output_type": "display_data"
    }
   ],
   "source": [
    "author_count_news = data.Author.value_counts()[:num_classes]\n",
    "author_count_news.plot(kind='bar', figsize=(15, 5), title=\"Number of author's articles\");"
   ]
  },
  {
   "cell_type": "markdown",
   "metadata": {
    "deletable": true,
    "editable": true
   },
   "source": [
    "### Подготовка данных для анализа\n",
    "- Добавление только топ 30 авторов\n",
    "- Удаление стоп слов\n",
    "- Лемматизация текста\n",
    "- Удаление лишних столбцов\n",
    "- One hot encoding для авторов"
   ]
  },
  {
   "cell_type": "code",
   "execution_count": 9,
   "metadata": {
    "collapsed": false,
    "deletable": true,
    "editable": true
   },
   "outputs": [
    {
     "name": "stdout",
     "output_type": "stream",
     "text": [
      "Количество статей после удаления: 3381\n"
     ]
    }
   ],
   "source": [
    "temp_data = pd.DataFrame()\n",
    "names_author = author_count_news.index.values\n",
    "\n",
    "for author in names_author:\n",
    "    temp_data = temp_data.append(data[data.Author == author])\n",
    "\n",
    "data = temp_data\n",
    "print('Количество статей после удаления:', len(data))"
   ]
  },
  {
   "cell_type": "code",
   "execution_count": 20,
   "metadata": {
    "collapsed": false,
    "deletable": true,
    "editable": true
   },
   "outputs": [
    {
     "name": "stdout",
     "output_type": "stream",
     "text": [
      "Stop words have been deleted\n"
     ]
    }
   ],
   "source": [
    "from nltk.corpus import stopwords\n",
    "stop = stopwords.words('russian')\n",
    "data['Text'].apply(lambda x: ' '.join([item for item in x.split() if item not in stop]))\n",
    "print('Stop words have been deleted')"
   ]
  },
  {
   "cell_type": "code",
   "execution_count": 22,
   "metadata": {
    "collapsed": false,
    "deletable": true,
    "editable": true
   },
   "outputs": [
    {
     "name": "stdout",
     "output_type": "stream",
     "text": [
      "The lemmatization completed\n"
     ]
    }
   ],
   "source": [
    "import pymorphy2\n",
    "morph = pymorphy2.MorphAnalyzer()\n",
    "data['TextLem'] = data['Text'].map(lambda x: ' '.join([morph.parse(word)[0].normal_form for word in x.split()]))\n",
    "print('The lemmatization completed')"
   ]
  },
  {
   "cell_type": "code",
   "execution_count": 10,
   "metadata": {
    "collapsed": false,
    "deletable": true,
    "editable": true,
    "scrolled": true
   },
   "outputs": [
    {
     "data": {
      "text/plain": [
       "OneHotEncoder(categorical_features='all', dtype=<class 'numpy.float64'>,\n",
       "       handle_unknown='error', n_values='auto', sparse=True)"
      ]
     },
     "execution_count": 10,
     "metadata": {},
     "output_type": "execute_result"
    }
   ],
   "source": [
    "names = data.Author.value_counts().index.values\n",
    "\n",
    "lableEnc = LabelEncoder()\n",
    "lableEnc.fit(names.ravel()) \n",
    "lables = lableEnc.transform(names).reshape((num_classes, 1))\n",
    "\n",
    "oneHotEnc = OneHotEncoder()\n",
    "oneHotEnc.fit(lables)\n",
    "\n",
    "#lableEnc.fit(names_author.ravel()) \n",
    "#lables = lableEnc.transform(names_author).reshape((num_classes, 1))\n",
    "#oneHotEnc.fit(lables)\n",
    "\n",
    "# Example encoding\n",
    "#aaa = lableEnc.transform(['@saul'])\n",
    "#vvv = oneHotEnc.transform(aaa).toarray()\n",
    "#print(vvv)"
   ]
  },
  {
   "cell_type": "code",
   "execution_count": 11,
   "metadata": {
    "collapsed": false,
    "deletable": true,
    "editable": true
   },
   "outputs": [
    {
     "data": {
      "text/html": [
       "<div>\n",
       "<table border=\"1\" class=\"dataframe\">\n",
       "  <thead>\n",
       "    <tr style=\"text-align: right;\">\n",
       "      <th></th>\n",
       "      <th>Author</th>\n",
       "      <th>Text</th>\n",
       "      <th>TextLem</th>\n",
       "      <th>CountWords</th>\n",
       "    </tr>\n",
       "  </thead>\n",
       "  <tbody>\n",
       "    <tr>\n",
       "      <th>0</th>\n",
       "      <td>25</td>\n",
       "      <td>В шестой части серии учебных материалов, посв...</td>\n",
       "      <td>в шесть часть серия учебный материалов, посвят...</td>\n",
       "      <td>2260</td>\n",
       "    </tr>\n",
       "    <tr>\n",
       "      <th>1</th>\n",
       "      <td>25</td>\n",
       "      <td>С каждым новом поколением процессоры Intel вб...</td>\n",
       "      <td>с каждый новый поколение процессор intel вбира...</td>\n",
       "      <td>756</td>\n",
       "    </tr>\n",
       "    <tr>\n",
       "      <th>2</th>\n",
       "      <td>25</td>\n",
       "      <td>Статья в блоге Intel «Прокачай свой жесткий д...</td>\n",
       "      <td>статья в блог intel «прокачать свой жёсткий ди...</td>\n",
       "      <td>795</td>\n",
       "    </tr>\n",
       "    <tr>\n",
       "      <th>3</th>\n",
       "      <td>25</td>\n",
       "      <td>Испанская компания с говорящим названием Geek...</td>\n",
       "      <td>испанский компания с говорящий название geeksp...</td>\n",
       "      <td>107</td>\n",
       "    </tr>\n",
       "    <tr>\n",
       "      <th>4</th>\n",
       "      <td>25</td>\n",
       "      <td>igzip — высокопроизводительная библиотека для...</td>\n",
       "      <td>igzip — высокопроизводительный библиотека для ...</td>\n",
       "      <td>1534</td>\n",
       "    </tr>\n",
       "  </tbody>\n",
       "</table>\n",
       "</div>"
      ],
      "text/plain": [
       "   Author                                               Text  \\\n",
       "0      25   В шестой части серии учебных материалов, посв...   \n",
       "1      25   С каждым новом поколением процессоры Intel вб...   \n",
       "2      25   Статья в блоге Intel «Прокачай свой жесткий д...   \n",
       "3      25   Испанская компания с говорящим названием Geek...   \n",
       "4      25   igzip — высокопроизводительная библиотека для...   \n",
       "\n",
       "                                             TextLem  CountWords  \n",
       "0  в шесть часть серия учебный материалов, посвят...        2260  \n",
       "1  с каждый новый поколение процессор intel вбира...         756  \n",
       "2  статья в блог intel «прокачать свой жёсткий ди...         795  \n",
       "3  испанский компания с говорящий название geeksp...         107  \n",
       "4  igzip — высокопроизводительный библиотека для ...        1534  "
      ]
     },
     "execution_count": 11,
     "metadata": {},
     "output_type": "execute_result"
    }
   ],
   "source": [
    "for author in names:\n",
    "    val = lableEnc.transform([author])[0]\n",
    "    data.Author.replace(to_replace=author, value=val, inplace=True)\n",
    "\n",
    "#data = data.drop(['Url', 'Title', 'CountWords'], axis=1)\n",
    "data.head()"
   ]
  },
  {
   "cell_type": "markdown",
   "metadata": {
    "deletable": true,
    "editable": true
   },
   "source": [
    "**Сохранение датасета**"
   ]
  },
  {
   "cell_type": "code",
   "execution_count": 28,
   "metadata": {
    "collapsed": true,
    "deletable": true,
    "editable": true
   },
   "outputs": [],
   "source": [
    "filename = 'datasetHabrahabr.csv'\n",
    "data.to_csv(filename, index=False, encoding='utf-8')"
   ]
  },
  {
   "cell_type": "markdown",
   "metadata": {
    "deletable": true,
    "editable": true
   },
   "source": [
    "**Перемешивание набора данных**"
   ]
  },
  {
   "cell_type": "code",
   "execution_count": 3,
   "metadata": {
    "collapsed": false,
    "deletable": true,
    "editable": true
   },
   "outputs": [],
   "source": [
    "data = data.sample(frac=1).reset_index(drop=True)"
   ]
  },
  {
   "cell_type": "markdown",
   "metadata": {
    "deletable": true,
    "editable": true
   },
   "source": [
    "**Токенизация текста**"
   ]
  },
  {
   "cell_type": "code",
   "execution_count": 4,
   "metadata": {
    "collapsed": true,
    "deletable": true,
    "editable": true
   },
   "outputs": [],
   "source": [
    "filters = '!\"#$%&()*+,-./:;<=>?@[\\\\]^_`{|}~\\t\\n\\r'\n",
    "max_features = 50000"
   ]
  },
  {
   "cell_type": "code",
   "execution_count": 5,
   "metadata": {
    "collapsed": true,
    "deletable": true,
    "editable": true
   },
   "outputs": [],
   "source": [
    "def get_texts_to_matrix(text, max_features = 0):\n",
    "    tokenizer = Tokenizer(filters=filters, split=\" \", lower=True)\n",
    "    \n",
    "    if max_features != 0:\n",
    "        tokenizer = Tokenizer(filters=filters, split=\" \", lower=True, num_words=max_features)\n",
    "    \n",
    "    tokenizer.fit_on_texts(text)\n",
    "    matrix_tfidf = tokenizer.texts_to_matrix(texts=text, mode='tfidf')\n",
    "    print('Количество текстов:', matrix_tfidf.shape[0])\n",
    "    print('Количество токенов:', matrix_tfidf.shape[1])\n",
    "    return matrix_tfidf"
   ]
  },
  {
   "cell_type": "code",
   "execution_count": 43,
   "metadata": {
    "collapsed": true,
    "deletable": true,
    "editable": true
   },
   "outputs": [],
   "source": [
    "def get_texts_to_sequences(text):\n",
    "    # создаем единый словарь (слово -> число) для преобразования\n",
    "    tokenizer = Tokenizer(split=\" \", lower=True)\n",
    "    tokenizer.fit_on_texts(text)\n",
    "    # Преобразуем все описания в числовые последовательности, заменяя слова на числа по словарю.\n",
    "    text_sequences = tokenizer.texts_to_sequences(text)\n",
    "    print('В словаре {} слов'.format(len(tokenizer.word_index)))\n",
    "    return text_sequences"
   ]
  },
  {
   "cell_type": "code",
   "execution_count": 41,
   "metadata": {
    "collapsed": false,
    "deletable": true,
    "editable": true
   },
   "outputs": [],
   "source": [
    "def get_texts_to_gramm_sequences(texts, count_gramm = 3):\n",
    "    gramms = {}\n",
    "    counter_gramm = 0\n",
    "    result = []\n",
    "    temp_vector = []\n",
    "    \n",
    "    for text in texts:\n",
    "        for i in range(len(text) - count_gramm - 1):\n",
    "            gramm = text[i : i + count_gramm]\n",
    "            if gramms.get(gramm) == None:\n",
    "                gramms[gramm] = counter_gramm\n",
    "                counter_gramm += 1\n",
    "            temp_vector.append(gramms[gramm])\n",
    "        result.append(temp_vector)\n",
    "        temp_vector = []\n",
    "        \n",
    "    print('Количество грамм в корпусе:', len(gramms))\n",
    "    #count_gramm = [len(x) for x in text_threegramm]\n",
    "    #num = np.array(count_gramm)\n",
    "    #num.mean()\n",
    "    return result"
   ]
  },
  {
   "cell_type": "code",
   "execution_count": 44,
   "metadata": {
    "collapsed": false,
    "deletable": true,
    "editable": true
   },
   "outputs": [
    {
     "name": "stdout",
     "output_type": "stream",
     "text": [
      "В словаре 270878 слов\n"
     ]
    }
   ],
   "source": [
    "#X = get_texts_to_matrix(data['TextLem'], max_features=max_features)\n",
    "#X = get_texts_to_gramm_sequences(data['Text'])\n",
    "X = get_texts_to_sequences(data['Text'])"
   ]
  },
  {
   "cell_type": "markdown",
   "metadata": {
    "deletable": true,
    "editable": true
   },
   "source": [
    "### Разбиваем выборку на тестовую и тренировочную"
   ]
  },
  {
   "cell_type": "code",
   "execution_count": 56,
   "metadata": {
    "collapsed": false,
    "deletable": true,
    "editable": true
   },
   "outputs": [],
   "source": [
    "# количество наиболее часто используемых слов\n",
    "# Максимальное количество слов в самом длинном описании заявки\n",
    "num_words = 5000\n",
    "\n",
    "def get_X_y_for_traning(X, y):\n",
    "    #tokenizer = Tokenizer(num_words=num_words)\n",
    "    #X = tokenizer.sequences_to_matrix(X_train, mode='binary')\n",
    "    X = keras.preprocessing.sequence.pad_sequences(X, maxlen=num_words) \n",
    "    y = keras.utils.to_categorical(y, num_classes)\n",
    "    print('Размерность X:', X.shape) \n",
    "    print('Размерность y:', y.shape)\n",
    "    return X, y"
   ]
  },
  {
   "cell_type": "code",
   "execution_count": 57,
   "metadata": {
    "collapsed": false,
    "deletable": true,
    "editable": true
   },
   "outputs": [
    {
     "name": "stdout",
     "output_type": "stream",
     "text": [
      "Размерность X: (3381, 5000)\n",
      "Размерность y: (3381, 29)\n",
      "Testing set size: 677\n",
      "Training set size: 2704\n"
     ]
    }
   ],
   "source": [
    "X_full, y_full = get_X_y_for_traning(X, data.Author)\n",
    "X_train, X_test, y_train, y_test = train_test_split(X_full, y_full, test_size=0.2, random_state=0)\n",
    "\n",
    "print('Testing set size:', len(X_test))\n",
    "print('Training set size:', len(X_train))"
   ]
  },
  {
   "cell_type": "markdown",
   "metadata": {
    "deletable": true,
    "editable": true
   },
   "source": [
    "### Создание модели нейронной сети"
   ]
  },
  {
   "cell_type": "code",
   "execution_count": 79,
   "metadata": {
    "collapsed": false,
    "deletable": true,
    "editable": true
   },
   "outputs": [],
   "source": [
    "max_features = 100000\n",
    "\n",
    "def get_lstm_model():    \n",
    "    model = Sequential()\n",
    "    # Слой для векторного представления слов\n",
    "    model.add(Embedding(max_features, 500))\n",
    "    model.add(SpatialDropout1D(0.3))\n",
    "    # Слой долго-краткосрочной памяти\n",
    "    model.add(LSTM(100, dropout=0.3, recurrent_dropout=0.3)) \n",
    "    # Полносвязный слой\n",
    "    model.add(Dense(num_classes, activation=\"sigmoid\"))\n",
    "    # Копмилируем модель\n",
    "    model.compile(loss='categorical_crossentropy', optimizer='adam', metrics=['accuracy'])\n",
    "    return model\n",
    "\n",
    "def get_conv_model():\n",
    "    model = Sequential()\n",
    "    model.add(Embedding(20000, 300, input_length=num_words))\n",
    "    model.add(SpatialDropout1D(0.2))\n",
    "    model.add(Conv1D(filters=512, kernel_size=3, activation='relu'))\n",
    "    model.add(GlobalMaxPooling1D())\n",
    "    model.add(Dense(num_classes, activation=\"sigmoid\"))\n",
    "    model.compile(loss='categorical_crossentropy', optimizer='adam', metrics=['accuracy'])\n",
    "    return model\n",
    "\n",
    "def get_conv_lstm_model():\n",
    "    model = Sequential()\n",
    "    model.add(Embedding(20000, 300, input_length=num_words))\n",
    "    model.add(SpatialDropout1D(0.2))\n",
    "    model.add(LSTM(50, dropout=0.3, recurrent_dropout=0.3, return_sequences=True)) \n",
    "    #model.add(SpatialDropout1D(0.2))\n",
    "    model.add(Conv1D(filters=256, kernel_size=3, activation='relu'))\n",
    "    model.add(GlobalMaxPooling1D())\n",
    "    model.add(Dense(num_classes, activation=\"sigmoid\"))\n",
    "    model.compile(loss='categorical_crossentropy', optimizer='adam', metrics=['accuracy'])\n",
    "    return model"
   ]
  },
  {
   "cell_type": "code",
   "execution_count": 80,
   "metadata": {
    "collapsed": false,
    "deletable": true,
    "editable": true
   },
   "outputs": [
    {
     "name": "stdout",
     "output_type": "stream",
     "text": [
      "_________________________________________________________________\n",
      "Layer (type)                 Output Shape              Param #   \n",
      "=================================================================\n",
      "embedding_15 (Embedding)     (None, 5000, 300)         6000000   \n",
      "_________________________________________________________________\n",
      "spatial_dropout1d_15 (Spatia (None, 5000, 300)         0         \n",
      "_________________________________________________________________\n",
      "conv1d_15 (Conv1D)           (None, 4998, 512)         461312    \n",
      "_________________________________________________________________\n",
      "global_max_pooling1d_15 (Glo (None, 512)               0         \n",
      "_________________________________________________________________\n",
      "dense_15 (Dense)             (None, 29)                14877     \n",
      "=================================================================\n",
      "Total params: 6,476,189\n",
      "Trainable params: 6,476,189\n",
      "Non-trainable params: 0\n",
      "_________________________________________________________________\n",
      "Train on 2433 samples, validate on 271 samples\n",
      "Epoch 1/8\n",
      "47s - loss: 3.2273 - acc: 0.1443 - val_loss: 3.1485 - val_acc: 0.1328\n",
      "Epoch 2/8\n",
      "30s - loss: 2.8660 - acc: 0.1817 - val_loss: 2.4695 - val_acc: 0.4244\n",
      "Epoch 3/8\n",
      "29s - loss: 1.7608 - acc: 0.5980 - val_loss: 1.4848 - val_acc: 0.6052\n",
      "Epoch 4/8\n",
      "30s - loss: 0.9051 - acc: 0.8126 - val_loss: 1.0015 - val_acc: 0.7380\n",
      "Epoch 5/8\n",
      "29s - loss: 0.5082 - acc: 0.9026 - val_loss: 0.8067 - val_acc: 0.8081\n",
      "Epoch 6/8\n",
      "30s - loss: 0.3059 - acc: 0.9511 - val_loss: 0.7180 - val_acc: 0.8155\n",
      "Epoch 7/8\n",
      "30s - loss: 0.2119 - acc: 0.9618 - val_loss: 0.6724 - val_acc: 0.8118\n",
      "Epoch 8/8\n",
      "29s - loss: 0.0959 - acc: 0.9967 - val_loss: 0.6337 - val_acc: 0.8376\n"
     ]
    }
   ],
   "source": [
    "model = get_conv_model()\n",
    "model.summary()\n",
    "history = model.fit(X_train, y_train, batch_size=64, epochs=8, verbose=2, validation_split=0.1)"
   ]
  },
  {
   "cell_type": "code",
   "execution_count": 82,
   "metadata": {
    "collapsed": false,
    "deletable": true,
    "editable": true,
    "scrolled": true
   },
   "outputs": [
    {
     "name": "stdout",
     "output_type": "stream",
     "text": [
      "677/677 [==============================] - 20s     \b\b\b\b\b\b\b\b\b\b\b\b\b\b\b\b\b\b\b\b\b\b\b\b\b\b\b\b\b\b\b\b\b\b\b\b\b\b\b\b\b\b\b\b\b\b\b\b\b\b\b\b\b\b\b\b\b\b\b\b\b\b\b\b\b\b\b\b\b\b\b\b\b\b\b\b\b\b\b\b\b\b\b\b\b\b\b\b\b\b\b\b\b\b\b\b\b\b\b\b\b\b\b\b\b\b\b\b\b\b\b\b\b\b\b\b\b\b\b\b\b\b\b\b\b\b\b\b\b\b\b\b\b\b\b\b\b\b\b\b\b\b\b\b\b\b\b\b\b\b\b\b\b\b\b\b\b\b\b\b\b\b\b\b\b\b\b\b\b\b\b\b\b\b\b\b\b\b\b\b\b\b\b\b\b\b\b\b\b\b\b\b\b\b\b\b\b\b\b\b\b\b\b\b\b\b\b\b\b\b\b\b\b\b\b\b\b\b\b\b\b\b\b\b\b\b\b\b\b\b\b\b\b\b\b\b\b\b\b\b\b\b\b\b\b\b\b\b\b\b\b\b\b\b\b\b\b\b\b\b\b\b\b\b\b\b\b\b\b\b\b\b\b\b\b\b\b\b\b\b\b\b\b\b\b\b\b\b\b\b\b\b\b\b\b\b\b\b\b\b\b\b\b\n",
      "Точность модели составляет: 86.4106354104187\n"
     ]
    }
   ],
   "source": [
    "print('Точность модели составляет: {}'.format(model.evaluate(X_test, y_test, batch_size=64, verbose=2)[1] * 100))"
   ]
  },
  {
   "cell_type": "code",
   "execution_count": 65,
   "metadata": {
    "collapsed": false,
    "deletable": true,
    "editable": true
   },
   "outputs": [
    {
     "name": "stdout",
     "output_type": "stream",
     "text": [
      "dict_keys(['val_loss', 'val_acc', 'loss', 'acc'])\n"
     ]
    },
    {
     "data": {
      "image/png": "[encoded data removed]",
      "text/plain": [
       "<matplotlib.figure.Figure at 0x7f1ddecd3ba8>"
      ]
     },
     "metadata": {},
     "output_type": "display_data"
    },
    {
     "data": {
      "image/png": "[encoded data removed]",
      "text/plain": [
       "<matplotlib.figure.Figure at 0x7f1dde08af60>"
      ]
     },
     "metadata": {},
     "output_type": "display_data"
    }
   ],
   "source": [
    "from matplotlib import pyplot as plt\n",
    "print(history.history.keys())\n",
    "plt.plot(history.history['acc'])\n",
    "plt.plot(history.history['val_acc'])\n",
    "plt.title('model accuracy')\n",
    "plt.ylabel('accuracy')\n",
    "plt.xlabel('epoch')\n",
    "plt.legend(['train', 'valid'], loc='upper left')\n",
    "plt.show();\n",
    "# summarize history for loss\n",
    "plt.plot(history.history['loss'])\n",
    "plt.plot(history.history['val_loss'])\n",
    "plt.title('model loss')\n",
    "plt.ylabel('loss')\n",
    "plt.xlabel('epoch')\n",
    "plt.legend(['train', 'valid'], loc='upper left')\n",
    "plt.show();"
   ]
  },
  {
   "cell_type": "code",
   "execution_count": 56,
   "metadata": {
    "collapsed": true,
    "deletable": true,
    "editable": true
   },
   "outputs": [],
   "source": [
    "# Генерируем описание модели в формате json\n",
    "model_json = model.to_json()\n",
    "# Записываем модель в файл\n",
    "json_file = open(\"model/habra_model_4_threegramm.json\", \"w\")\n",
    "json_file.write(model_json)\n",
    "json_file.close()\n",
    "\n",
    "model.save_weights(\"model/habra_model_weights_4_threegramm.h5\")"
   ]
  },
  {
   "cell_type": "code",
   "execution_count": null,
   "metadata": {
    "collapsed": true,
    "deletable": true,
    "editable": true
   },
   "outputs": [],
   "source": []
  }
 ],
 "metadata": {
  "kernelspec": {
   "display_name": "Python 3",
   "language": "python",
   "name": "python3"
  },
  "language_info": {
   "codemirror_mode": {
    "name": "ipython",
    "version": 3
   },
   "file_extension": ".py",
   "mimetype": "text/x-python",
   "name": "python",
   "nbconvert_exporter": "python",
   "pygments_lexer": "ipython3",
   "version": "3.5.2"
  }
 },
 "nbformat": 4,
 "nbformat_minor": 2
}
