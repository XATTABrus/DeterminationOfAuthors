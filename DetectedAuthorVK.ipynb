{
 "cells": [
  {
   "cell_type": "code",
   "execution_count": 91,
   "metadata": {
    "collapsed": false,
    "deletable": true,
    "editable": true
   },
   "outputs": [],
   "source": [
    "from matplotlib import pyplot as plt\n",
    "from sklearn.preprocessing import LabelEncoder, OneHotEncoder\n",
    "from sklearn.model_selection import train_test_split\n",
    "from keras.preprocessing.text import Tokenizer\n",
    "from keras.models import Sequential\n",
    "from keras.layers import Dense, Activation, Embedding, TimeDistributed, Bidirectional\n",
    "from keras.layers import LSTM, SpatialDropout1D, Conv1D, GlobalMaxPooling1D, MaxPooling1D, Flatten\n",
    "from keras.layers.core import Dropout\n",
    "from keras.callbacks import EarlyStopping\n",
    "from matplotlib import pyplot as plt\n",
    "import numpy as np\n",
    "import pandas as pd\n",
    "import keras\n",
    "import codecs\n",
    "import os\n",
    "\n",
    "%matplotlib inline"
   ]
  },
  {
   "cell_type": "code",
   "execution_count": 92,
   "metadata": {
    "collapsed": false,
    "deletable": true,
    "editable": true
   },
   "outputs": [],
   "source": [
    "# Устанавливаем seed для повторяемости результатов\n",
    "np.random.seed(42)"
   ]
  },
  {
   "cell_type": "code",
   "execution_count": 93,
   "metadata": {
    "collapsed": false,
    "deletable": true,
    "editable": true
   },
   "outputs": [
    {
     "data": {
      "text/html": [
       "<div>\n",
       "<table border=\"1\" class=\"dataframe\">\n",
       "  <thead>\n",
       "    <tr style=\"text-align: right;\">\n",
       "      <th></th>\n",
       "      <th>Author</th>\n",
       "      <th>Text</th>\n",
       "    </tr>\n",
       "  </thead>\n",
       "  <tbody>\n",
       "    <tr>\n",
       "      <th>0</th>\n",
       "      <td>22211</td>\n",
       "      <td>Надо жить у моря, Мама.\\n\\nAdMe.ru публикует р...</td>\n",
       "    </tr>\n",
       "    <tr>\n",
       "      <th>1</th>\n",
       "      <td>22211</td>\n",
       "      <td>Памятка трейдера.\\n\\nВыражения и термины приме...</td>\n",
       "    </tr>\n",
       "    <tr>\n",
       "      <th>2</th>\n",
       "      <td>22211</td>\n",
       "      <td>Руслан Проводников или \"Сибирский Рокки\", как ...</td>\n",
       "    </tr>\n",
       "    <tr>\n",
       "      <th>3</th>\n",
       "      <td>61454</td>\n",
       "      <td>\"Выбирай платья на лето\", \"готовься к лету вме...</td>\n",
       "    </tr>\n",
       "    <tr>\n",
       "      <th>4</th>\n",
       "      <td>61454</td>\n",
       "      <td>\"Спят ли мамы?\"- я не знала. На такой вопрос о...</td>\n",
       "    </tr>\n",
       "  </tbody>\n",
       "</table>\n",
       "</div>"
      ],
      "text/plain": [
       "   Author                                               Text\n",
       "0   22211  Надо жить у моря, Мама.\\n\\nAdMe.ru публикует р...\n",
       "1   22211  Памятка трейдера.\\n\\nВыражения и термины приме...\n",
       "2   22211  Руслан Проводников или \"Сибирский Рокки\", как ...\n",
       "3   61454  \"Выбирай платья на лето\", \"готовься к лету вме...\n",
       "4   61454  \"Спят ли мамы?\"- я не знала. На такой вопрос о..."
      ]
     },
     "execution_count": 93,
     "metadata": {},
     "output_type": "execute_result"
    }
   ],
   "source": [
    "data = pd.read_csv('posts.csv', names=['Author', 'Text'], sep=',', header=None)\n",
    "data.head()"
   ]
  },
  {
   "cell_type": "code",
   "execution_count": 94,
   "metadata": {
    "collapsed": false,
    "deletable": true,
    "editable": true
   },
   "outputs": [],
   "source": [
    "#from nltk.corpus import stopwords\n",
    "#stop = stopwords.words('russian')\n",
    "#data['Text'].apply(lambda x: ' '.join([item for item in x.split() if item not in stop]))\n",
    "#print('Stop words have been deleted')\n",
    "#data['Text'].apply(lambda x: x.replace('\\n', ' '));"
   ]
  },
  {
   "cell_type": "markdown",
   "metadata": {
    "deletable": true,
    "editable": true
   },
   "source": [
    "### Подсчет количества слов в корпусе"
   ]
  },
  {
   "cell_type": "code",
   "execution_count": 95,
   "metadata": {
    "collapsed": false,
    "deletable": true,
    "editable": true
   },
   "outputs": [
    {
     "name": "stdout",
     "output_type": "stream",
     "text": [
      "Количество статей в корпусе: 98442\n"
     ]
    }
   ],
   "source": [
    "data['CountWords'] = data['Text'].map(lambda x: len(x.split()))\n",
    "print('Количество статей в корпусе:', len(data))"
   ]
  },
  {
   "cell_type": "markdown",
   "metadata": {},
   "source": [
    "### Удаление спам пользователей"
   ]
  },
  {
   "cell_type": "code",
   "execution_count": 96,
   "metadata": {
    "collapsed": false,
    "deletable": true,
    "editable": true
   },
   "outputs": [
    {
     "name": "stdout",
     "output_type": "stream",
     "text": [
      "Count of spam users: 201\n"
     ]
    }
   ],
   "source": [
    "spam_list = [301557842, 184330667, 191315693, 111604181, 212846761, 278053852, 281162155, 206300456, 306859957, 19006413, 275267400, 131629784, 276695686, 227968805, 65265920, 215657793, 212066696, 281866527, 172515637, 420657548, 259904924, 103086082, 36309849, 151622711, 304407589, 304407589, 234135027, 330779808, 135431520, 326927985, 22070189, 16497456, 22070189, 16497456, 120772826, 181255568, 24655736, 90966607, 102977537, 317336618, 189704404, 11663845, 57439210, 163452787, 38680483, 121144040, 211289578, 280155968, 198528079, 277512341, 33152119, 314327791, 229101154, 271546215, 4121239, 59729051, 288393060, 17620663, 296431137, 320666372, 153340241, 13309210, 333014765, 24595847, 152263680, 135815313, 27763994, 34902711, 200488318, 393710429, 400853612, 18091069, 232368999, 243123251, 159034443, 101820061, 334397479, 36372315, 18412482, 362494239, 98538332, 94983825, 171941220, 35386477, 179364423, 136668179, 57446172, 288223392, 321431512, 277994902, 190694040, 325021098, 129392296, 289027630, 216216545, 75884932, 208023062, 185965346, 2857932, 2574325, 154034429, 312715518, 286913827, 336049060, 163410643, 309938895, 372204020, 400615680, 235441786, 8391421, 136997064, 174934251, 173179778, 134275738, 93070783, 403039516, 326194938, 26960550, 18090797, 15931375, 64401851, 14665799, 223678239, 1963998, 252135842, 16352364, 386230491, 135103805, 335233013, 226605259, 94018354, 363143703, 278775919, 134780377,498638, 498638, 20403116, 824871, 22259914, 203601767, 386435681, 280519165, 225577927, 336493264, 203836012, 250362235, 135154139, 332671406, 296879545, 191398452, 48411613, 276175277, 77459397, 15155303, 6646818, 174692652, 25755928, 145799445, 210213078, 225680585, 167783297, 159347782, 154637631, 343704548, 276329737, 158954181, 7736592, 52430830, 54738353, 181641220, 249065698, 356566757, 12276180, 146475131, 38034256, 301152537, 181250759, 65169740, 229445819, 360098848, 204181735, 311981137, 9365217, 323032519, 144081373, 166471693, 219977388, 3252582, 92645976, 341675206, 394122042, 8469671, 293599275, 150564713, 315874927, 75299334, 395839270, 256327432, 8758868, 234523373, 234523373] \n",
    "print('Count of spam users:', len(spam_list))\n",
    "lam = lambda row: row['Author'] not in spam_list\n",
    "data = data[data.apply(lam, axis=1)]"
   ]
  },
  {
   "cell_type": "code",
   "execution_count": 97,
   "metadata": {
    "collapsed": false,
    "deletable": true,
    "editable": true
   },
   "outputs": [
    {
     "name": "stdout",
     "output_type": "stream",
     "text": [
      "Количество авторов в корпусе: 8410\n"
     ]
    }
   ],
   "source": [
    "author_count_news = data.Author.value_counts()\n",
    "print('Количество авторов в корпусе:', len(author_count_news))\n",
    "#print(author_count_news[:-8300: -1])\n",
    "#author_count_news.plot(kind='bar', figsize=(15, 5), title=\"Number of author's articles\");"
   ]
  },
  {
   "cell_type": "markdown",
   "metadata": {
    "deletable": true,
    "editable": true
   },
   "source": [
    "### Количество статей у каждого пользователя"
   ]
  },
  {
   "cell_type": "code",
   "execution_count": 98,
   "metadata": {
    "collapsed": true,
    "deletable": true,
    "editable": true
   },
   "outputs": [],
   "source": [
    "# Попробовать изменить количество статей у автора, у каждого 10 постов, 50, 100\n",
    "\n",
    "num_classes = 50\n",
    "skip_person = 7\n",
    "author_count_news = author_count_news[skip_person:skip_person+num_classes]"
   ]
  },
  {
   "cell_type": "code",
   "execution_count": 99,
   "metadata": {
    "collapsed": false,
    "deletable": true,
    "editable": true
   },
   "outputs": [
    {
     "data": {
      "image/png": "[encoded data removed]",
      "text/plain": [
       "<matplotlib.figure.Figure at 0x7f7edd4456a0>"
      ]
     },
     "metadata": {},
     "output_type": "display_data"
    }
   ],
   "source": [
    "author_count_news.plot(kind='bar', figsize=(15, 5), title=\"Number of author's articles\");"
   ]
  },
  {
   "cell_type": "code",
   "execution_count": 100,
   "metadata": {
    "collapsed": false,
    "deletable": true,
    "editable": true
   },
   "outputs": [
    {
     "name": "stdout",
     "output_type": "stream",
     "text": [
      "User id 2023105\n",
      "2024    – Разве хегзы, это не те, кто взывает к легенд...\n",
      "2025    — «Shoryuken» means «rising dragon fist», appa...\n",
      "Name: Text, dtype: object\n",
      "===========\n",
      "User id 225897827\n",
      "70147    ✨✨ МОЙ МИР РАДУЕТ МЕНЯ СВОИМ ИЗОБИЛИЕМ И РАЗНО...\n",
      "70148    \"Мой новый взгляд на прощение или как я учусь ...\n",
      "Name: Text, dtype: object\n",
      "===========\n",
      "User id 82145315\n",
      "32365    \"... Полностью войдите в роль любителя, которы...\n",
      "32366    \"... Что бы мы ни говорили, что бы ни делали, ...\n",
      "Name: Text, dtype: object\n",
      "===========\n"
     ]
    }
   ],
   "source": [
    "for i, (user_id, number) in enumerate(author_count_news.items()):\n",
    "    print('User id', user_id)\n",
    "    print(data[data.Author == user_id]['Text'][:2])\n",
    "    print('===========')\n",
    "    if i == 2:\n",
    "        break"
   ]
  },
  {
   "cell_type": "markdown",
   "metadata": {
    "deletable": true,
    "editable": true
   },
   "source": [
    "### Подготовка данных"
   ]
  },
  {
   "cell_type": "code",
   "execution_count": 101,
   "metadata": {
    "collapsed": false,
    "deletable": true,
    "editable": true
   },
   "outputs": [
    {
     "name": "stdout",
     "output_type": "stream",
     "text": [
      "Количество статей после удаления: 6378\n"
     ]
    }
   ],
   "source": [
    "temp_data = pd.DataFrame()\n",
    "names_author = author_count_news.index.values\n",
    "\n",
    "for author in names_author:\n",
    "    temp_data = temp_data.append(data[data.Author == author])\n",
    "\n",
    "data = temp_data\n",
    "print('Количество статей после удаления:', len(data))"
   ]
  },
  {
   "cell_type": "code",
   "execution_count": 75,
   "metadata": {
    "collapsed": false,
    "deletable": true,
    "editable": true
   },
   "outputs": [
    {
     "data": {
      "image/png": "[encoded data removed]",
      "text/plain": [
       "<matplotlib.figure.Figure at 0x7f7edd8ef940>"
      ]
     },
     "metadata": {},
     "output_type": "display_data"
    }
   ],
   "source": [
    "data.CountWords.plot(kind='bar', figsize=(15, 5), title=\"Number of worlds in texts\");"
   ]
  },
  {
   "cell_type": "code",
   "execution_count": 102,
   "metadata": {
    "collapsed": true,
    "deletable": true,
    "editable": true
   },
   "outputs": [],
   "source": [
    "# def remove_stopwords(data):\n",
    "#     from nltk.corpus import stopwords\n",
    "#     stop = stopwords.words('russian')\n",
    "#     data['Text'].apply(lambda x: ' '.join([item for item in x.split() if item not in stop]))\n",
    "#     print('Stop words have been deleted')"
   ]
  },
  {
   "cell_type": "code",
   "execution_count": 103,
   "metadata": {
    "collapsed": true,
    "deletable": true,
    "editable": true
   },
   "outputs": [],
   "source": [
    "# def get_lemmatization_corpus(data):\n",
    "#     import pymorphy2\n",
    "#     morph = pymorphy2.MorphAnalyzer()\n",
    "#     data['TextLem'] = data['Text'].map(lambda x: ' '.join([morph.parse(word)[0].normal_form for word in x.split()]))\n",
    "#     print('The lemmatization completed')"
   ]
  },
  {
   "cell_type": "code",
   "execution_count": 104,
   "metadata": {
    "collapsed": false,
    "deletable": true,
    "editable": true
   },
   "outputs": [
    {
     "data": {
      "text/html": [
       "<div>\n",
       "<table border=\"1\" class=\"dataframe\">\n",
       "  <thead>\n",
       "    <tr style=\"text-align: right;\">\n",
       "      <th></th>\n",
       "      <th>Author</th>\n",
       "      <th>Text</th>\n",
       "      <th>CountWords</th>\n",
       "    </tr>\n",
       "  </thead>\n",
       "  <tbody>\n",
       "    <tr>\n",
       "      <th>2024</th>\n",
       "      <td>5</td>\n",
       "      <td>– Разве хегзы, это не те, кто взывает к легенд...</td>\n",
       "      <td>145</td>\n",
       "    </tr>\n",
       "    <tr>\n",
       "      <th>2025</th>\n",
       "      <td>5</td>\n",
       "      <td>— «Shoryuken» means «rising dragon fist», appa...</td>\n",
       "      <td>43</td>\n",
       "    </tr>\n",
       "    <tr>\n",
       "      <th>2026</th>\n",
       "      <td>5</td>\n",
       "      <td>­­— Why wouldn't everyone be religious, you kn...</td>\n",
       "      <td>75</td>\n",
       "    </tr>\n",
       "    <tr>\n",
       "      <th>2027</th>\n",
       "      <td>5</td>\n",
       "      <td>Всё как в прошлый раз: дрожь по руке как от...</td>\n",
       "      <td>85</td>\n",
       "    </tr>\n",
       "    <tr>\n",
       "      <th>2028</th>\n",
       "      <td>5</td>\n",
       "      <td>\"- Вурдалаки! - надрывался старик. Кто-то пред...</td>\n",
       "      <td>50</td>\n",
       "    </tr>\n",
       "  </tbody>\n",
       "</table>\n",
       "</div>"
      ],
      "text/plain": [
       "      Author                                               Text  CountWords\n",
       "2024       5  – Разве хегзы, это не те, кто взывает к легенд...         145\n",
       "2025       5  — «Shoryuken» means «rising dragon fist», appa...          43\n",
       "2026       5  ­­— Why wouldn't everyone be religious, you kn...          75\n",
       "2027       5     Всё как в прошлый раз: дрожь по руке как от...          85\n",
       "2028       5  \"- Вурдалаки! - надрывался старик. Кто-то пред...          50"
      ]
     },
     "execution_count": 104,
     "metadata": {},
     "output_type": "execute_result"
    }
   ],
   "source": [
    "names = data.Author.value_counts().index.values\n",
    "\n",
    "lableEnc = LabelEncoder()\n",
    "lableEnc.fit(names.ravel()) \n",
    "lables = lableEnc.transform(names).reshape((num_classes, 1))\n",
    "\n",
    "oneHotEnc = OneHotEncoder()\n",
    "oneHotEnc.fit(lables)\n",
    "\n",
    "for author in names:\n",
    "    val = lableEnc.transform([author])[0]\n",
    "    data.Author.replace(to_replace=author, value=val, inplace=True)\n",
    "\n",
    "data.head()"
   ]
  },
  {
   "cell_type": "code",
   "execution_count": 105,
   "metadata": {
    "collapsed": true,
    "deletable": true,
    "editable": true
   },
   "outputs": [],
   "source": [
    "# Перемешать набор данных и удалить index столбец\n",
    "data = data.sample(frac=1).reset_index(drop=True)"
   ]
  },
  {
   "cell_type": "markdown",
   "metadata": {
    "deletable": true,
    "editable": true
   },
   "source": [
    "### Токенизация текста"
   ]
  },
  {
   "cell_type": "code",
   "execution_count": 106,
   "metadata": {
    "collapsed": false,
    "deletable": true,
    "editable": true
   },
   "outputs": [],
   "source": [
    "def get_texts_to_matrix(texts, max_features = 0):\n",
    "    tokenizer = Tokenizer(split=\" \", lower=True)\n",
    "    if max_features != 0:\n",
    "        tokenizer = Tokenizer(split=\" \", lower=True, num_words=max_features)\n",
    "    \n",
    "    tokenizer.fit_on_texts(texts)\n",
    "    matrix_tfidf = tokenizer.texts_to_matrix(texts=texts, mode='tfidf')\n",
    "    print('Количество текстов:', matrix_tfidf.shape[0])\n",
    "    print('Количество токенов:', matrix_tfidf.shape[1])\n",
    "    return matrix_tfidf"
   ]
  },
  {
   "cell_type": "code",
   "execution_count": 107,
   "metadata": {
    "collapsed": true,
    "deletable": true,
    "editable": true
   },
   "outputs": [],
   "source": [
    "# Убрать LowerCase\n",
    "\n",
    "def get_texts_to_sequences(text):\n",
    "    # создаем единый словарь (слово -> число) для преобразования\n",
    "    tokenizer = Tokenizer(split=\" \", lower=False)\n",
    "    tokenizer.fit_on_texts(text)\n",
    "    # Преобразуем все описания в числовые последовательности, заменяя слова на числа по словарю.\n",
    "    text_sequences = tokenizer.texts_to_sequences(text)\n",
    "    print('В словаре {} слов'.format(len(tokenizer.word_index)))\n",
    "    return text_sequences"
   ]
  },
  {
   "cell_type": "code",
   "execution_count": 108,
   "metadata": {
    "collapsed": true,
    "deletable": true,
    "editable": true
   },
   "outputs": [],
   "source": [
    "def get_texts_to_gramm_sequences(texts, count_gramm = 3):\n",
    "    gramms = {}\n",
    "    counter_gramm = 0\n",
    "    result = []\n",
    "    temp_vector = []\n",
    "    \n",
    "    for text in texts:\n",
    "        for i in range(len(text) - count_gramm - 1):\n",
    "            gramm = text[i : i + count_gramm]\n",
    "            if gramms.get(gramm) == None:\n",
    "                gramms[gramm] = counter_gramm\n",
    "                counter_gramm += 1\n",
    "            temp_vector.append(gramms[gramm])\n",
    "        result.append(temp_vector)\n",
    "        temp_vector = []\n",
    "        \n",
    "    print('Количество грамм в корпусе:', len(gramms))\n",
    "    #count_gramm = [len(x) for x in text_threegramm]\n",
    "    #num = np.array(count_gramm)\n",
    "    #num.mean()\n",
    "    return result"
   ]
  },
  {
   "cell_type": "code",
   "execution_count": 109,
   "metadata": {
    "collapsed": false,
    "deletable": true,
    "editable": true
   },
   "outputs": [
    {
     "name": "stdout",
     "output_type": "stream",
     "text": [
      "В словаре 111579 слов\n"
     ]
    }
   ],
   "source": [
    "#X = get_texts_to_matrix(data['Text'], 80000)\n",
    "#X = get_texts_to_gramm_sequences(data['Text'])\n",
    "X = get_texts_to_sequences(data['Text'])"
   ]
  },
  {
   "cell_type": "code",
   "execution_count": 110,
   "metadata": {
    "collapsed": false
   },
   "outputs": [
    {
     "data": {
      "text/plain": [
       "[9133,\n",
       " 3479,\n",
       " 1591,\n",
       " 2347,\n",
       " 4389,\n",
       " 26714,\n",
       " 9134,\n",
       " 1,\n",
       " 26715,\n",
       " 130,\n",
       " 2989,\n",
       " 2076,\n",
       " 176,\n",
       " 805,\n",
       " 2,\n",
       " 1307,\n",
       " 19329,\n",
       " 307,\n",
       " 12412,\n",
       " 86,\n",
       " 253,\n",
       " 48,\n",
       " 584,\n",
       " 87,\n",
       " 39,\n",
       " 1357,\n",
       " 2524,\n",
       " 43367,\n",
       " 20,\n",
       " 105,\n",
       " 4,\n",
       " 19330,\n",
       " 4675,\n",
       " 25,\n",
       " 26716,\n",
       " 220,\n",
       " 12413,\n",
       " 26717,\n",
       " 26718,\n",
       " 39,\n",
       " 34,\n",
       " 1234,\n",
       " 30,\n",
       " 2,\n",
       " 7148,\n",
       " 8,\n",
       " 9,\n",
       " 73,\n",
       " 900,\n",
       " 10547,\n",
       " 277]"
      ]
     },
     "execution_count": 110,
     "metadata": {},
     "output_type": "execute_result"
    }
   ],
   "source": [
    "X[0]"
   ]
  },
  {
   "cell_type": "code",
   "execution_count": 111,
   "metadata": {
    "collapsed": false,
    "deletable": true,
    "editable": true
   },
   "outputs": [
    {
     "data": {
      "image/png": "[encoded data removed]",
      "text/plain": [
       "<matplotlib.figure.Figure at 0x7f7ece52cc18>"
      ]
     },
     "metadata": {},
     "output_type": "display_data"
    }
   ],
   "source": [
    "#plt.plot(X)\n",
    "means = [len(x) for x in X]\n",
    "plt.plot(means);\n",
    "#X.plot(kind='bar', figsize=(15, 5), title=\"Number of worlds in texts\");"
   ]
  },
  {
   "cell_type": "markdown",
   "metadata": {
    "deletable": true,
    "editable": true
   },
   "source": [
    "### Разбиваем выборку на тестовую и тренировочную"
   ]
  },
  {
   "cell_type": "code",
   "execution_count": 112,
   "metadata": {
    "collapsed": true,
    "deletable": true,
    "editable": true
   },
   "outputs": [],
   "source": [
    "def get_X_y_for_traning(X, y, num_words):\n",
    "    #tokenizer = Tokenizer(num_words=num_words)\n",
    "    #X = tokenizer.sequences_to_matrix(X, mode='binary')\n",
    "\n",
    "    X = keras.preprocessing.sequence.pad_sequences(X, maxlen=num_words)     \n",
    "    y = keras.utils.to_categorical(y, num_classes)\n",
    "    print('Размерность X:', X.shape)\n",
    "    print('Размерность y:', y.shape)\n",
    "    return X, y"
   ]
  },
  {
   "cell_type": "code",
   "execution_count": 113,
   "metadata": {
    "collapsed": false
   },
   "outputs": [
    {
     "data": {
      "text/plain": [
       "50"
      ]
     },
     "execution_count": 113,
     "metadata": {},
     "output_type": "execute_result"
    }
   ],
   "source": [
    "num_classes"
   ]
  },
  {
   "cell_type": "code",
   "execution_count": 115,
   "metadata": {
    "collapsed": false,
    "deletable": true,
    "editable": true
   },
   "outputs": [
    {
     "name": "stdout",
     "output_type": "stream",
     "text": [
      "Размерность X: (6378, 500)\n",
      "Размерность y: (6378, 50)\n",
      "Testing set size: 1276\n",
      "Training set size: 5102\n"
     ]
    }
   ],
   "source": [
    "# Максимальное количество слов в самом длинном тексте\n",
    "num_words = 500\n",
    "X_full, y_full = get_X_y_for_traning(X, data.Author, num_words)\n",
    "X_train, X_test, y_train, y_test = train_test_split(X_full, y_full, test_size=0.2, random_state=42)\n",
    "\n",
    "print('Testing set size:', len(X_test))\n",
    "print('Training set size:', len(X_train))"
   ]
  },
  {
   "cell_type": "markdown",
   "metadata": {},
   "source": [
    "### Accuracy в зависимости от параметров Dropout\n",
    "![alt text](https://2.downloader.disk.yandex.ru/preview/8e14c7756af3174dd350c25f3e6b8440a61e9a777ee2da314fd9f7fdd3091b2f/inf/rO8FnfsfSlEfAA1AjPLcJ2uQGpv-ZqVMnu5RumfWpo4yKYIGlxh3eJRayw6TcMCHwESHEemqBkkmTZnnheB-xQ%3D%3D?uid=0&filename=2018-02-04_19-53-32.png&disposition=inline&hash=&limit=0&content_type=image%2Fpng&tknv=v2&size=XXL&crop=0 \"Logo Title Text 1\")\n",
    "\n",
    "### Accuracy в зависимости от Learning Rate\n",
    "![alt text](https://2.downloader.disk.yandex.ru/preview/fa7057505b329e83b102d9815718569bd8495582c48d5fbe83bc35b0615263ce/inf/rO8FnfsfSlEfAA1AjPLcJ3LSAMr9nlqY5MHCpTZ2V9rMkRavocK8rFQ9rEwG9gspdkhMcLPBICDpAd1YRkHHlw%3D%3D?uid=0&filename=2018-02-04_19-54-48.png&disposition=inline&hash=&limit=0&content_type=image%2Fpng&tknv=v2&size=XXL&crop=0 \"Logo Title Text 1\")\n",
    "\n",
    "### Accuracy в зависимости от Batch size\n",
    "![alt text](https://4.downloader.disk.yandex.ru/disk/8eb281727507e6d15620d94175cec3ed4f509b3c40e5a820a1044c1e989e2dda/5a775771/rO8FnfsfSlEfAA1AjPLcJ6926tWJn_ypr-A-mql52eNcQXSffjilIJqUiUafRUZuc-1sR5I9yDwgiCUs2xFu6g%3D%3D?uid=0&filename=2018-02-04_19-56-28.png&disposition=inline&hash=&limit=0&content_type=image%2Fpng&fsize=29996&hid=308d82806a74c28ee7ee9c1432dbc6ba&media_type=image&tknv=v2&etag=849c2457f9719ab80079d07e58f899d9 \"Logo Title Text 1\")\n"
   ]
  },
  {
   "cell_type": "markdown",
   "metadata": {
    "deletable": true,
    "editable": true
   },
   "source": [
    "### Создание модели нейронной сети"
   ]
  },
  {
   "cell_type": "code",
   "execution_count": 54,
   "metadata": {
    "collapsed": false,
    "deletable": true,
    "editable": true
   },
   "outputs": [],
   "source": [
    "def get_lstm_model(input_length):\n",
    "    model = Sequential()\n",
    "    model.add(Embedding(input_length, 200))\n",
    "    model.add(SpatialDropout1D(0.2))\n",
    "    model.add(LSTM(128, dropout=0.3, recurrent_dropout=0.3))\n",
    "    model.add(Dense(num_classes, activation=\"sigmoid\"))\n",
    "    model.compile(loss='categorical_crossentropy', optimizer='adam', metrics=['accuracy'])\n",
    "    return model"
   ]
  },
  {
   "cell_type": "code",
   "execution_count": 32,
   "metadata": {
    "collapsed": true
   },
   "outputs": [],
   "source": [
    "def get_bidirectional_lstm():\n",
    "    model = Sequential()\n",
    "    model.add(Embedding(80000, 200))\n",
    "    model.add(SpatialDropout1D(0.2))\n",
    "    model.add(Bidirectional(LSTM(10, dropout=0.3, recurrent_dropout=0.3)))\n",
    "    model.add(Dense(num_classes, activation=\"sigmoid\"))\n",
    "    model.compile(loss='categorical_crossentropy', optimizer='adam', metrics=['accuracy'])\n",
    "    return model"
   ]
  },
  {
   "cell_type": "code",
   "execution_count": 35,
   "metadata": {
    "collapsed": true
   },
   "outputs": [],
   "source": [
    "def get_conv_conv_model():\n",
    "    model = Sequential()\n",
    "    model.add(Embedding(160000, 300))\n",
    "    model.add(SpatialDropout1D(0.2))\n",
    "    model.add(Conv1D(filters=512, kernel_size=3, activation='relu'))\n",
    "    model.add(MaxPooling1D())\n",
    "    model.add(Conv1D(filters=512, kernel_size=3, activation='relu'))\n",
    "    model.add(GlobalMaxPooling1D())\n",
    "    model.add(Dense(num_classes, activation=\"sigmoid\"))\n",
    "    model.compile(loss='categorical_crossentropy', optimizer='adam', metrics=['accuracy'])\n",
    "    return model"
   ]
  },
  {
   "cell_type": "code",
   "execution_count": 36,
   "metadata": {
    "collapsed": true
   },
   "outputs": [],
   "source": [
    "def get_conv_lstm_model():\n",
    "    model = Sequential()\n",
    "    #model.add(Dense(102562, activation='relu', input_shape=(8664, 600)))\n",
    "    model.add(Embedding(100000, 200))\n",
    "    model.add(SpatialDropout1D(0.3))\n",
    "    #model.add(TimeDistributed(Conv1D(filters=512, kernel_size=3, activation='relu')))\n",
    "    #model.add(TimeDistributed(GlobalMaxPooling1D()))\n",
    "    #model.add(TimeDistributed(Flatten()))\n",
    "    model.add(Conv1D(filters=512, kernel_size=3, activation='relu'))\n",
    "    model.add(MaxPooling1D())\n",
    "    #model.add(Flatten())\n",
    "    model.add(LSTM(50, dropout=0.3, recurrent_dropout=0.3))\n",
    "    model.add(Dense(num_classes, activation=\"sigmoid\"))\n",
    "    model.compile(loss='categorical_crossentropy', optimizer='adam', metrics=['accuracy'])\n",
    "    return model"
   ]
  },
  {
   "cell_type": "code",
   "execution_count": 37,
   "metadata": {
    "collapsed": true
   },
   "outputs": [],
   "source": [
    "def get_lstm_conv_model():\n",
    "    model = Sequential()\n",
    "    model.add(Embedding(160000, 300))\n",
    "    model.add(SpatialDropout1D(0.2))\n",
    "    model.add(LSTM(50, dropout=0.3, recurrent_dropout=0.3, return_sequences=True)) \n",
    "    #model.add(SpatialDropout1D(0.2))\n",
    "    model.add(Conv1D(filters=512, kernel_size=3, activation='sigmoid'))\n",
    "    model.add(GlobalMaxPooling1D())\n",
    "    model.add(Dense(num_classes, activation=\"sigmoid\"))\n",
    "    model.compile(loss='categorical_crossentropy', optimizer='adam', metrics=['accuracy'])\n",
    "    return model"
   ]
  },
  {
   "cell_type": "code",
   "execution_count": 116,
   "metadata": {
    "collapsed": true
   },
   "outputs": [],
   "source": [
    "def get_conv_model():\n",
    "    model = Sequential()\n",
    "    model.add(Embedding(111579, 200))\n",
    "    model.add(SpatialDropout1D(0.2))\n",
    "    model.add(Conv1D(filters=512, kernel_size=3, activation='relu'))\n",
    "    model.add(GlobalMaxPooling1D())\n",
    "    model.add(Dense(num_classes, activation=\"sigmoid\"))\n",
    "    model.compile(loss='categorical_crossentropy', optimizer='adam', metrics=['accuracy'])\n",
    "    return model"
   ]
  },
  {
   "cell_type": "code",
   "execution_count": 117,
   "metadata": {
    "collapsed": false,
    "deletable": true,
    "editable": true
   },
   "outputs": [
    {
     "name": "stdout",
     "output_type": "stream",
     "text": [
      "_________________________________________________________________\n",
      "Layer (type)                 Output Shape              Param #   \n",
      "=================================================================\n",
      "embedding_7 (Embedding)      (None, None, 200)         22315800  \n",
      "_________________________________________________________________\n",
      "spatial_dropout1d_7 (Spatial (None, None, 200)         0         \n",
      "_________________________________________________________________\n",
      "conv1d_6 (Conv1D)            (None, None, 512)         307712    \n",
      "_________________________________________________________________\n",
      "global_max_pooling1d_6 (Glob (None, 512)               0         \n",
      "_________________________________________________________________\n",
      "dense_7 (Dense)              (None, 50)                25650     \n",
      "=================================================================\n",
      "Total params: 22,649,162\n",
      "Trainable params: 22,649,162\n",
      "Non-trainable params: 0\n",
      "_________________________________________________________________\n",
      "Train on 4591 samples, validate on 511 samples\n",
      "Epoch 1/7\n",
      "8s - loss: 3.8227 - acc: 0.0647 - val_loss: 3.7303 - val_acc: 0.0705\n",
      "Epoch 2/7\n",
      "5s - loss: 3.2004 - acc: 0.2050 - val_loss: 2.6682 - val_acc: 0.3581\n",
      "Epoch 3/7\n",
      "5s - loss: 2.1820 - acc: 0.4622 - val_loss: 2.2517 - val_acc: 0.4110\n",
      "Epoch 4/7\n",
      "5s - loss: 1.5003 - acc: 0.6998 - val_loss: 2.0671 - val_acc: 0.4462\n",
      "Epoch 5/7\n",
      "5s - loss: 0.7819 - acc: 0.9166 - val_loss: 1.9057 - val_acc: 0.4971\n",
      "Epoch 6/7\n",
      "5s - loss: 0.2810 - acc: 0.9826 - val_loss: 1.8753 - val_acc: 0.5147\n",
      "Epoch 7/7\n",
      "5s - loss: 0.0987 - acc: 0.9924 - val_loss: 1.9009 - val_acc: 0.5127\n",
      "CPU times: user 29.8 s, sys: 6.99 s, total: 36.8 s\n",
      "Wall time: 44.3 s\n"
     ]
    }
   ],
   "source": [
    "%%time\n",
    "#model = get_lstm_model(120000) # 34.10 10-epoch\n",
    "#model = get_bidirectional_lstm() # 50.86 20-epoch\n",
    "model = get_conv_model() # 53.1 6-epoch\n",
    "#model = get_conv_conv_model() # 54.04 7-epoch\n",
    "#model = get_conv_lstm_model() # 53.17 10-epoch\n",
    "#model = get_lstm_conv_model() # 52.60 10-epoch\n",
    "\n",
    "model.summary()\n",
    "\n",
    "BATCH_SIZE = 64\n",
    "EPOCHS = 7\n",
    "VERBOSE = 2\n",
    "\n",
    "history = model.fit(X_train, y_train, \n",
    "                    batch_size=BATCH_SIZE, \n",
    "                    epochs=EPOCHS, verbose=VERBOSE, \n",
    "                    validation_split=0.1, \n",
    "                    #callbacks=[EarlyStopping(monitor='val_loss')]\n",
    "                   )"
   ]
  },
  {
   "cell_type": "code",
   "execution_count": 118,
   "metadata": {
    "collapsed": false,
    "deletable": true,
    "editable": true
   },
   "outputs": [
    {
     "name": "stdout",
     "output_type": "stream",
     "text": [
      "Точность модели составляет: 49.84326054309977\n"
     ]
    }
   ],
   "source": [
    "print('Точность модели составляет: {}'.format(model.evaluate(X_test, y_test, batch_size=64, verbose=2)[1] * 100))"
   ]
  },
  {
   "cell_type": "code",
   "execution_count": 119,
   "metadata": {
    "collapsed": false,
    "deletable": true,
    "editable": true
   },
   "outputs": [
    {
     "name": "stdout",
     "output_type": "stream",
     "text": [
      "dict_keys(['loss', 'val_loss', 'acc', 'val_acc'])\n"
     ]
    },
    {
     "data": {
      "image/png": "[encoded data removed]",
      "text/plain": [
       "<matplotlib.figure.Figure at 0x7f7ed71a2fd0>"
      ]
     },
     "metadata": {},
     "output_type": "display_data"
    },
    {
     "data": {
      "image/png": "[encoded data removed]",
      "text/plain": [
       "<matplotlib.figure.Figure at 0x7f7ec888eeb8>"
      ]
     },
     "metadata": {},
     "output_type": "display_data"
    }
   ],
   "source": [
    "from matplotlib import pyplot as plt\n",
    "print(history.history.keys())\n",
    "plt.plot(history.history['acc'])\n",
    "plt.plot(history.history['val_acc'])\n",
    "plt.title('model accuracy')\n",
    "plt.ylabel('accuracy')\n",
    "plt.xlabel('epoch')\n",
    "plt.legend(['train', 'valid'], loc='upper left')\n",
    "plt.show();\n",
    "# summarize history for loss\n",
    "plt.plot(history.history['loss'])\n",
    "plt.plot(history.history['val_loss'])\n",
    "plt.title('model loss')\n",
    "plt.ylabel('loss')\n",
    "plt.xlabel('epoch')\n",
    "plt.legend(['train', 'valid'], loc='upper left')\n",
    "plt.show();"
   ]
  },
  {
   "cell_type": "code",
   "execution_count": 44,
   "metadata": {
    "collapsed": true,
    "deletable": true,
    "editable": true
   },
   "outputs": [],
   "source": [
    "def save_model(model, model_name):\n",
    "    # Генерируем описание модели в формате json\n",
    "    model_json = model.to_json()\n",
    "    # Записываем модель в файл\n",
    "    json_file = open(\"model/{}_model.json\".format(model_name), \"w\")\n",
    "    json_file.write(model_json)\n",
    "    json_file.close()\n",
    "    model.save_weights(\"model/{}_weights.h5\".format(model_name))\n",
    "    print('Модель и веса успешно сохранены!')"
   ]
  },
  {
   "cell_type": "code",
   "execution_count": 58,
   "metadata": {
    "collapsed": false,
    "deletable": true,
    "editable": true
   },
   "outputs": [
    {
     "name": "stdout",
     "output_type": "stream",
     "text": [
      "Модель и веса успешно сохранены!\n"
     ]
    }
   ],
   "source": [
    "save_model(model, 'vk_98percent_cnn')"
   ]
  },
  {
   "cell_type": "code",
   "execution_count": null,
   "metadata": {
    "collapsed": true,
    "deletable": true,
    "editable": true
   },
   "outputs": [],
   "source": []
  }
 ],
 "metadata": {
  "kernelspec": {
   "display_name": "Python 3",
   "language": "python",
   "name": "python3"
  },
  "language_info": {
   "codemirror_mode": {
    "name": "ipython",
    "version": 3
   },
   "file_extension": ".py",
   "mimetype": "text/x-python",
   "name": "python",
   "nbconvert_exporter": "python",
   "pygments_lexer": "ipython3",
   "version": "3.5.2"
  }
 },
 "nbformat": 4,
 "nbformat_minor": 2
}
