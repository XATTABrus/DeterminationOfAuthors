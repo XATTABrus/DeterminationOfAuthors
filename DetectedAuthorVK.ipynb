{
 "cells": [
  {
   "cell_type": "code",
   "execution_count": 1,
   "metadata": {
    "collapsed": false,
    "deletable": true,
    "editable": true
   },
   "outputs": [
    {
     "name": "stderr",
     "output_type": "stream",
     "text": [
      "Using TensorFlow backend.\n"
     ]
    }
   ],
   "source": [
    "from matplotlib import pyplot as plt\n",
    "from sklearn.preprocessing import LabelEncoder, OneHotEncoder\n",
    "from sklearn.model_selection import train_test_split\n",
    "from keras.preprocessing.text import Tokenizer\n",
    "from keras.models import Sequential\n",
    "from keras.layers import Dense, Activation, Embedding, TimeDistributed, Bidirectional\n",
    "from keras.layers import LSTM, SpatialDropout1D, Conv1D, GlobalMaxPooling1D, MaxPooling1D, Flatten\n",
    "from keras.layers.core import Dropout\n",
    "from keras.callbacks import EarlyStopping\n",
    "from matplotlib import pyplot as plt\n",
    "import numpy as np\n",
    "import pandas as pd\n",
    "import keras\n",
    "import codecs\n",
    "import os\n",
    "\n",
    "%matplotlib inline"
   ]
  },
  {
   "cell_type": "code",
   "execution_count": 2,
   "metadata": {
    "collapsed": false,
    "deletable": true,
    "editable": true
   },
   "outputs": [
    {
     "data": {
      "text/plain": [
       "131072"
      ]
     },
     "execution_count": 2,
     "metadata": {},
     "output_type": "execute_result"
    }
   ],
   "source": [
    "import sys\n",
    "import csv\n",
    "\n",
    "csv.field_size_limit(sys.maxsize)"
   ]
  },
  {
   "cell_type": "code",
   "execution_count": 3,
   "metadata": {
    "collapsed": false,
    "deletable": true,
    "editable": true
   },
   "outputs": [
    {
     "name": "stdout",
     "output_type": "stream",
     "text": [
      "datasetCSV.zip\t\t DetectedAuthorTwitter.ipynb  LICENSE\r\n",
      "datasetHabrahabr.csv\t DetectedAuthorVK.ipynb       model\r\n",
      "dataset.zip\t\t echo_posts_100_and_more.csv  posts.csv\r\n",
      "DetectedAuthorRNN.ipynb  Habrahabr\t\t      README.md\r\n"
     ]
    }
   ],
   "source": [
    "!ls"
   ]
  },
  {
   "cell_type": "code",
   "execution_count": 4,
   "metadata": {
    "collapsed": false,
    "deletable": true,
    "editable": true
   },
   "outputs": [],
   "source": [
    "# Устанавливаем seed для повторяемости результатов\n",
    "np.random.seed(42)"
   ]
  },
  {
   "cell_type": "code",
   "execution_count": 5,
   "metadata": {
    "collapsed": false,
    "deletable": true,
    "editable": true
   },
   "outputs": [
    {
     "name": "stdout",
     "output_type": "stream",
     "text": [
      "['|Author|Text\\n', '0|ААВ-старший|\"\\n', '\\n', 'Я\\xa0сожалею, что начало передачи с\\xa0Леонидом Волковым было скомкано. \\n', '\\n', 'Приношу извинения тем слушателям Эха, которые сочли этот инцидент неуместным  \\n', '\\n', '«Эхо Москвы» готово предложить дебаты между Ксенией Собчак и\\xa0Алексеем Навальным.  \\n', 'Оригинал \"\\n', '1|ААВ-старший|\"\\n']\n"
     ]
    }
   ],
   "source": [
    "N = 10\n",
    "with open(\"echo_posts_100_and_more.csv\") as myfile:\n",
    "    head = [next(myfile) for x in range(N)]\n",
    "print(head)"
   ]
  },
  {
   "cell_type": "code",
   "execution_count": 5,
   "metadata": {
    "collapsed": false,
    "deletable": true,
    "editable": true
   },
   "outputs": [
    {
     "data": {
      "text/html": [
       "<div>\n",
       "<table border=\"1\" class=\"dataframe\">\n",
       "  <thead>\n",
       "    <tr style=\"text-align: right;\">\n",
       "      <th></th>\n",
       "      <th>Author</th>\n",
       "      <th>Text</th>\n",
       "    </tr>\n",
       "  </thead>\n",
       "  <tbody>\n",
       "    <tr>\n",
       "      <th>0</th>\n",
       "      <td>ААВ-старший</td>\n",
       "      <td>\\n\\nЯ сожалею, что начало передачи с Леонидом ...</td>\n",
       "    </tr>\n",
       "    <tr>\n",
       "      <th>1</th>\n",
       "      <td>ААВ-старший</td>\n",
       "      <td>\\n\\nПонятно, почему Путин рассказывал о высоко...</td>\n",
       "    </tr>\n",
       "    <tr>\n",
       "      <th>2</th>\n",
       "      <td>ААВ-старший</td>\n",
       "      <td>\\n\\nСчитал и считаю, что отказ в регистрации А...</td>\n",
       "    </tr>\n",
       "    <tr>\n",
       "      <th>3</th>\n",
       "      <td>ААВ-старший</td>\n",
       "      <td>\\nО странностях жизни.  \\nПутин благодарит Тра...</td>\n",
       "    </tr>\n",
       "    <tr>\n",
       "      <th>4</th>\n",
       "      <td>ААВ-старший</td>\n",
       "      <td>\\n\\nВот интересно – начальник Службы безопасно...</td>\n",
       "    </tr>\n",
       "  </tbody>\n",
       "</table>\n",
       "</div>"
      ],
      "text/plain": [
       "        Author                                               Text\n",
       "0  ААВ-старший  \\n\\nЯ сожалею, что начало передачи с Леонидом ...\n",
       "1  ААВ-старший  \\n\\nПонятно, почему Путин рассказывал о высоко...\n",
       "2  ААВ-старший  \\n\\nСчитал и считаю, что отказ в регистрации А...\n",
       "3  ААВ-старший  \\nО странностях жизни.  \\nПутин благодарит Тра...\n",
       "4  ААВ-старший  \\n\\nВот интересно – начальник Службы безопасно..."
      ]
     },
     "execution_count": 5,
     "metadata": {},
     "output_type": "execute_result"
    }
   ],
   "source": [
    "data = pd.read_csv('echo_posts_100_and_more.csv', sep='|', engine='python', index_col=0)\n",
    "data.head()"
   ]
  },
  {
   "cell_type": "code",
   "execution_count": 6,
   "metadata": {
    "collapsed": false,
    "deletable": true,
    "editable": true
   },
   "outputs": [
    {
     "name": "stdout",
     "output_type": "stream",
     "text": [
      "<class 'pandas.core.frame.DataFrame'>\n",
      "Index: 87640 entries, 0 to 87436\n",
      "Data columns (total 2 columns):\n",
      "Author    87437 non-null object\n",
      "Text      80168 non-null object\n",
      "dtypes: object(2)\n",
      "memory usage: 2.0+ MB\n"
     ]
    }
   ],
   "source": [
    "data.info()"
   ]
  },
  {
   "cell_type": "code",
   "execution_count": 8,
   "metadata": {
    "collapsed": false,
    "deletable": true,
    "editable": true
   },
   "outputs": [],
   "source": [
    "# data = pd.read_csv('posts.csv', names=['Author', 'Text'], sep=',', header=None)\n",
    "# data.head()"
   ]
  },
  {
   "cell_type": "code",
   "execution_count": 9,
   "metadata": {
    "collapsed": false,
    "deletable": true,
    "editable": true
   },
   "outputs": [],
   "source": [
    "#from nltk.corpus import stopwords\n",
    "#stop = stopwords.words('russian')\n",
    "#data['Text'].apply(lambda x: ' '.join([item for item in x.split() if item not in stop]))\n",
    "#print('Stop words have been deleted')\n",
    "#data['Text'].apply(lambda x: x.replace('\\n', ' '));"
   ]
  },
  {
   "cell_type": "markdown",
   "metadata": {
    "deletable": true,
    "editable": true
   },
   "source": [
    "### Подсчет количества слов в корпусе"
   ]
  },
  {
   "cell_type": "code",
   "execution_count": 7,
   "metadata": {
    "collapsed": false,
    "deletable": true,
    "editable": true
   },
   "outputs": [],
   "source": [
    "data.Text = data.Text.apply(str);"
   ]
  },
  {
   "cell_type": "code",
   "execution_count": 8,
   "metadata": {
    "collapsed": false,
    "deletable": true,
    "editable": true
   },
   "outputs": [
    {
     "name": "stdout",
     "output_type": "stream",
     "text": [
      "Количество статей в корпусе: 87640\n"
     ]
    }
   ],
   "source": [
    "data['CountWords'] = data['Text'].map(lambda x: len(x.split()))\n",
    "print('Количество статей в корпусе:', len(data))"
   ]
  },
  {
   "cell_type": "markdown",
   "metadata": {
    "deletable": true,
    "editable": true
   },
   "source": [
    "### Удаление спам пользователей"
   ]
  },
  {
   "cell_type": "code",
   "execution_count": 96,
   "metadata": {
    "collapsed": false,
    "deletable": true,
    "editable": true
   },
   "outputs": [
    {
     "name": "stdout",
     "output_type": "stream",
     "text": [
      "Count of spam users: 201\n"
     ]
    }
   ],
   "source": [
    "spam_list = [301557842, 184330667, 191315693, 111604181, 212846761, 278053852, 281162155, 206300456, 306859957, 19006413, 275267400, 131629784, 276695686, 227968805, 65265920, 215657793, 212066696, 281866527, 172515637, 420657548, 259904924, 103086082, 36309849, 151622711, 304407589, 304407589, 234135027, 330779808, 135431520, 326927985, 22070189, 16497456, 22070189, 16497456, 120772826, 181255568, 24655736, 90966607, 102977537, 317336618, 189704404, 11663845, 57439210, 163452787, 38680483, 121144040, 211289578, 280155968, 198528079, 277512341, 33152119, 314327791, 229101154, 271546215, 4121239, 59729051, 288393060, 17620663, 296431137, 320666372, 153340241, 13309210, 333014765, 24595847, 152263680, 135815313, 27763994, 34902711, 200488318, 393710429, 400853612, 18091069, 232368999, 243123251, 159034443, 101820061, 334397479, 36372315, 18412482, 362494239, 98538332, 94983825, 171941220, 35386477, 179364423, 136668179, 57446172, 288223392, 321431512, 277994902, 190694040, 325021098, 129392296, 289027630, 216216545, 75884932, 208023062, 185965346, 2857932, 2574325, 154034429, 312715518, 286913827, 336049060, 163410643, 309938895, 372204020, 400615680, 235441786, 8391421, 136997064, 174934251, 173179778, 134275738, 93070783, 403039516, 326194938, 26960550, 18090797, 15931375, 64401851, 14665799, 223678239, 1963998, 252135842, 16352364, 386230491, 135103805, 335233013, 226605259, 94018354, 363143703, 278775919, 134780377,498638, 498638, 20403116, 824871, 22259914, 203601767, 386435681, 280519165, 225577927, 336493264, 203836012, 250362235, 135154139, 332671406, 296879545, 191398452, 48411613, 276175277, 77459397, 15155303, 6646818, 174692652, 25755928, 145799445, 210213078, 225680585, 167783297, 159347782, 154637631, 343704548, 276329737, 158954181, 7736592, 52430830, 54738353, 181641220, 249065698, 356566757, 12276180, 146475131, 38034256, 301152537, 181250759, 65169740, 229445819, 360098848, 204181735, 311981137, 9365217, 323032519, 144081373, 166471693, 219977388, 3252582, 92645976, 341675206, 394122042, 8469671, 293599275, 150564713, 315874927, 75299334, 395839270, 256327432, 8758868, 234523373, 234523373] \n",
    "print('Count of spam users:', len(spam_list))\n",
    "lam = lambda row: row['Author'] not in spam_list\n",
    "data = data[data.apply(lam, axis=1)]"
   ]
  },
  {
   "cell_type": "code",
   "execution_count": 9,
   "metadata": {
    "collapsed": false,
    "deletable": true,
    "editable": true
   },
   "outputs": [
    {
     "name": "stdout",
     "output_type": "stream",
     "text": [
      "Количество авторов в корпусе: 290\n"
     ]
    }
   ],
   "source": [
    "author_count_news = data.Author.value_counts()\n",
    "print('Количество авторов в корпусе:', len(author_count_news))\n",
    "#print(author_count_news[:-8300: -1])\n",
    "#author_count_news.plot(kind='bar', figsize=(15, 5), title=\"Number of author's articles\");"
   ]
  },
  {
   "cell_type": "markdown",
   "metadata": {
    "deletable": true,
    "editable": true
   },
   "source": [
    "### Количество статей у каждого пользователя"
   ]
  },
  {
   "cell_type": "code",
   "execution_count": 10,
   "metadata": {
    "collapsed": true,
    "deletable": true,
    "editable": true
   },
   "outputs": [],
   "source": [
    "# Попробовать изменить количество статей у автора, у каждого 10 постов, 50, 100\n",
    "\n",
    "num_classes = 100\n",
    "skip_person = 9\n",
    "author_count_news_dubset = author_count_news[skip_person:skip_person+num_classes]"
   ]
  },
  {
   "cell_type": "code",
   "execution_count": 11,
   "metadata": {
    "collapsed": false,
    "deletable": true,
    "editable": true
   },
   "outputs": [
    {
     "data": {
      "image/png": "[encoded data removed]",
      "text/plain": [
       "<matplotlib.figure.Figure at 0x7f0511336160>"
      ]
     },
     "metadata": {},
     "output_type": "display_data"
    }
   ],
   "source": [
    "author_count_news_dubset.plot(kind='bar', figsize=(15, 5), title=\"Number of author's articles\");"
   ]
  },
  {
   "cell_type": "code",
   "execution_count": 100,
   "metadata": {
    "collapsed": false,
    "deletable": true,
    "editable": true
   },
   "outputs": [
    {
     "name": "stdout",
     "output_type": "stream",
     "text": [
      "User id 2023105\n",
      "2024    – Разве хегзы, это не те, кто взывает к легенд...\n",
      "2025    — «Shoryuken» means «rising dragon fist», appa...\n",
      "Name: Text, dtype: object\n",
      "===========\n",
      "User id 225897827\n",
      "70147    ✨✨ МОЙ МИР РАДУЕТ МЕНЯ СВОИМ ИЗОБИЛИЕМ И РАЗНО...\n",
      "70148    \"Мой новый взгляд на прощение или как я учусь ...\n",
      "Name: Text, dtype: object\n",
      "===========\n",
      "User id 82145315\n",
      "32365    \"... Полностью войдите в роль любителя, которы...\n",
      "32366    \"... Что бы мы ни говорили, что бы ни делали, ...\n",
      "Name: Text, dtype: object\n",
      "===========\n"
     ]
    }
   ],
   "source": [
    "for i, (user_id, number) in enumerate(author_count_news.items()):\n",
    "    print('User id', user_id)\n",
    "    print(data[data.Author == user_id]['Text'][:2])\n",
    "    print('===========')\n",
    "    if i == 2:\n",
    "        break"
   ]
  },
  {
   "cell_type": "markdown",
   "metadata": {
    "deletable": true,
    "editable": true
   },
   "source": [
    "### Подготовка данных"
   ]
  },
  {
   "cell_type": "code",
   "execution_count": 13,
   "metadata": {
    "collapsed": false,
    "deletable": true,
    "editable": true
   },
   "outputs": [
    {
     "name": "stdout",
     "output_type": "stream",
     "text": [
      "Количество статей после удаления: 41941\n"
     ]
    }
   ],
   "source": [
    "temp_data = pd.DataFrame()\n",
    "names_author = author_count_news_dubset.index.values\n",
    "\n",
    "for author in names_author:\n",
    "    temp_data = temp_data.append(data[data.Author == author])\n",
    "\n",
    "data = temp_data\n",
    "print('Количество статей после удаления:', len(data))"
   ]
  },
  {
   "cell_type": "code",
   "execution_count": 16,
   "metadata": {
    "collapsed": true,
    "deletable": true,
    "editable": true
   },
   "outputs": [],
   "source": [
    "# def remove_stopwords(data):\n",
    "#     from nltk.corpus import stopwords\n",
    "#     stop = stopwords.words('russian')\n",
    "#     data['Text'].apply(lambda x: ' '.join([item for item in x.split() if item not in stop]))\n",
    "#     print('Stop words have been deleted')"
   ]
  },
  {
   "cell_type": "code",
   "execution_count": 17,
   "metadata": {
    "collapsed": true,
    "deletable": true,
    "editable": true
   },
   "outputs": [],
   "source": [
    "# def get_lemmatization_corpus(data):\n",
    "#     import pymorphy2\n",
    "#     morph = pymorphy2.MorphAnalyzer()\n",
    "#     data['TextLem'] = data['Text'].map(lambda x: ' '.join([morph.parse(word)[0].normal_form for word in x.split()]))\n",
    "#     print('The lemmatization completed')"
   ]
  },
  {
   "cell_type": "code",
   "execution_count": 14,
   "metadata": {
    "collapsed": false,
    "deletable": true,
    "editable": true
   },
   "outputs": [
    {
     "data": {
      "text/html": [
       "<div>\n",
       "<table border=\"1\" class=\"dataframe\">\n",
       "  <thead>\n",
       "    <tr style=\"text-align: right;\">\n",
       "      <th></th>\n",
       "      <th>Author</th>\n",
       "      <th>Text</th>\n",
       "      <th>CountWords</th>\n",
       "    </tr>\n",
       "  </thead>\n",
       "  <tbody>\n",
       "    <tr>\n",
       "      <th>22596</th>\n",
       "      <td>68</td>\n",
       "      <td>\\n\\nРоссия предложила вернуть Украине военные ...</td>\n",
       "      <td>334</td>\n",
       "    </tr>\n",
       "    <tr>\n",
       "      <th>22597</th>\n",
       "      <td>68</td>\n",
       "      <td>\\n\\nРоссийские властные комики продолжают жечь...</td>\n",
       "      <td>457</td>\n",
       "    </tr>\n",
       "    <tr>\n",
       "      <th>22598</th>\n",
       "      <td>68</td>\n",
       "      <td>\\n\\nЕсть такое украинское слово «чорноротый». ...</td>\n",
       "      <td>384</td>\n",
       "    </tr>\n",
       "    <tr>\n",
       "      <th>22599</th>\n",
       "      <td>68</td>\n",
       "      <td>\\n\\nПесков отказался назвать имя того самого у...</td>\n",
       "      <td>455</td>\n",
       "    </tr>\n",
       "    <tr>\n",
       "      <th>22600</th>\n",
       "      <td>68</td>\n",
       "      <td>\\nТут для начала хочу напомнить, что в Америке...</td>\n",
       "      <td>481</td>\n",
       "    </tr>\n",
       "  </tbody>\n",
       "</table>\n",
       "</div>"
      ],
      "text/plain": [
       "       Author                                               Text  CountWords\n",
       "22596      68  \\n\\nРоссия предложила вернуть Украине военные ...         334\n",
       "22597      68  \\n\\nРоссийские властные комики продолжают жечь...         457\n",
       "22598      68  \\n\\nЕсть такое украинское слово «чорноротый». ...         384\n",
       "22599      68  \\n\\nПесков отказался назвать имя того самого у...         455\n",
       "22600      68  \\nТут для начала хочу напомнить, что в Америке...         481"
      ]
     },
     "execution_count": 14,
     "metadata": {},
     "output_type": "execute_result"
    }
   ],
   "source": [
    "names = data.Author.value_counts().index.values\n",
    "\n",
    "lableEnc = LabelEncoder()\n",
    "lableEnc.fit(names.ravel()) \n",
    "lables = lableEnc.transform(names).reshape((num_classes, 1))\n",
    "\n",
    "oneHotEnc = OneHotEncoder()\n",
    "oneHotEnc.fit(lables)\n",
    "\n",
    "for author in names:\n",
    "    val = lableEnc.transform([author])[0]\n",
    "    data.Author.replace(to_replace=author, value=val, inplace=True)\n",
    "\n",
    "data.head()"
   ]
  },
  {
   "cell_type": "code",
   "execution_count": 15,
   "metadata": {
    "collapsed": false,
    "deletable": true,
    "editable": true
   },
   "outputs": [],
   "source": [
    "df = data\n",
    "samplesize = 20  #number of samples that you want\n",
    "sample_20 = df.groupby('Author', as_index=False).apply(lambda array: array.loc[np.random.choice(array.index, samplesize, False),:])\n",
    "numberOfword_20 = 1000\n",
    "\n",
    "samplesize = 40  #number of samples that you want\n",
    "sample_40 = df.groupby('Author', as_index=False).apply(lambda array: array.loc[np.random.choice(array.index, samplesize, False),:])\n",
    "numberOfword_20 = 1200\n",
    "\n",
    "samplesize = 60  #number of samples that you want\n",
    "sample_60 = df.groupby('Author', as_index=False).apply(lambda array: array.loc[np.random.choice(array.index, samplesize, False),:])\n",
    "numberOfword_20 = 1000\n",
    "\n",
    "samplesize = 80  #number of samples that you want\n",
    "sample_80 = df.groupby('Author', as_index=False).apply(lambda array: array.loc[np.random.choice(array.index, samplesize, False),:])\n",
    "\n",
    "samplesize = 100  #number of samples that you want\n",
    "sample_100 = df.groupby('Author', as_index=False).apply(lambda array: array.loc[np.random.choice(array.index, samplesize, False),:])\n",
    "\n",
    "\n",
    "samplesize = 130  #number of samples that you want\n",
    "sample_130 = df.groupby('Author', as_index=False).apply(lambda array: array.loc[np.random.choice(array.index, samplesize, False),:])\n",
    "\n",
    "\n",
    "samplesize = 160  #number of samples that you want\n",
    "sample_160 = df.groupby('Author', as_index=False).apply(lambda array: array.loc[np.random.choice(array.index, samplesize, False),:])\n",
    "\n",
    "\n",
    "samplesize = 200  #number of samples that you want\n",
    "sample_200 = df.groupby('Author', as_index=False).apply(lambda array: array.loc[np.random.choice(array.index, samplesize, False),:])"
   ]
  },
  {
   "cell_type": "code",
   "execution_count": 26,
   "metadata": {
    "collapsed": true
   },
   "outputs": [],
   "source": [
    "array_samples = [sample_20, sample_40, sample_60, sample_80, sample_100, sample_130, sample_160, sample_200]"
   ]
  },
  {
   "cell_type": "code",
   "execution_count": 36,
   "metadata": {
    "collapsed": false
   },
   "outputs": [
    {
     "data": {
      "text/plain": [
       "526.87735"
      ]
     },
     "execution_count": 36,
     "metadata": {},
     "output_type": "execute_result"
    }
   ],
   "source": [
    "np.mean(sample_200.CountWords)"
   ]
  },
  {
   "cell_type": "code",
   "execution_count": 35,
   "metadata": {
    "collapsed": false,
    "deletable": true,
    "editable": true
   },
   "outputs": [
    {
     "data": {
      "image/png": "[encoded data removed]",
      "text/plain": [
       "<matplotlib.figure.Figure at 0x7f0504b465c0>"
      ]
     },
     "metadata": {},
     "output_type": "display_data"
    }
   ],
   "source": [
    "sample_200.CountWords.plot(kind='bar', figsize=(15, 5), title=\"Number of worlds in texts\");"
   ]
  },
  {
   "cell_type": "code",
   "execution_count": 19,
   "metadata": {
    "collapsed": true,
    "deletable": true,
    "editable": true
   },
   "outputs": [],
   "source": [
    "# Перемешать набор данных и удалить index столбец\n",
    "data = data.sample(frac=1).reset_index(drop=True)"
   ]
  },
  {
   "cell_type": "code",
   "execution_count": 29,
   "metadata": {
    "collapsed": false
   },
   "outputs": [],
   "source": [
    "for x in range(len(array_samples)):\n",
    "    array_samples[x] = array_samples[x].sample(frac=1).reset_index(drop=True)"
   ]
  },
  {
   "cell_type": "markdown",
   "metadata": {
    "deletable": true,
    "editable": true
   },
   "source": [
    "### Токенизация текста"
   ]
  },
  {
   "cell_type": "code",
   "execution_count": 30,
   "metadata": {
    "collapsed": false,
    "deletable": true,
    "editable": true
   },
   "outputs": [],
   "source": [
    "def get_texts_to_matrix(texts, max_features = 0):\n",
    "    tokenizer = Tokenizer(split=\" \", lower=True)\n",
    "    if max_features != 0:\n",
    "        tokenizer = Tokenizer(split=\" \", lower=True, num_words=max_features)\n",
    "    \n",
    "    tokenizer.fit_on_texts(texts)\n",
    "    matrix_tfidf = tokenizer.texts_to_matrix(texts=texts, mode='tfidf')\n",
    "    print('Количество текстов:', matrix_tfidf.shape[0])\n",
    "    print('Количество токенов:', matrix_tfidf.shape[1])\n",
    "    return matrix_tfidf"
   ]
  },
  {
   "cell_type": "code",
   "execution_count": 31,
   "metadata": {
    "collapsed": true,
    "deletable": true,
    "editable": true
   },
   "outputs": [],
   "source": [
    "# Убрать LowerCase\n",
    "\n",
    "def get_texts_to_sequences(text):\n",
    "    # создаем единый словарь (слово -> число) для преобразования\n",
    "    tokenizer = Tokenizer(split=\" \", lower=True)\n",
    "    tokenizer.fit_on_texts(text)\n",
    "    # Преобразуем все описания в числовые последовательности, заменяя слова на числа по словарю.\n",
    "    text_sequences = tokenizer.texts_to_sequences(text)\n",
    "    print('В словаре {} слов'.format(len(tokenizer.word_index)))\n",
    "    return text_sequences"
   ]
  },
  {
   "cell_type": "code",
   "execution_count": 32,
   "metadata": {
    "collapsed": true,
    "deletable": true,
    "editable": true
   },
   "outputs": [],
   "source": [
    "def get_texts_to_gramm_sequences(texts, count_gramm = 3):\n",
    "    char_filter = '«»—!–\"−#$%&()*…,-./:;<=>?@[\\\\]^_`{|}~\\t\\n'\n",
    "    gramms = {}\n",
    "    gram_id = 0\n",
    "    result = []\n",
    "    for text in texts:\n",
    "        for c_filter in char_filter:\n",
    "            text = text.replace(c_filter, '')\n",
    "        temp_vector = []\n",
    "        count_grams_for_text = range(len(text) - count_gramm - 1)\n",
    "        for i in count_grams_for_text:\n",
    "            gramm = text[i : i + count_gramm]\n",
    "            if gramm not in gramms:\n",
    "                gramms[gramm] = gram_id\n",
    "                gram_id += 1\n",
    "            temp_vector.append(gramms[gramm])\n",
    "        result.append(temp_vector)\n",
    "    print('Количество грамм в корпусе:', len(gramms))\n",
    "    return result"
   ]
  },
  {
   "cell_type": "code",
   "execution_count": 34,
   "metadata": {
    "collapsed": false
   },
   "outputs": [
    {
     "name": "stdout",
     "output_type": "stream",
     "text": [
      "Количество грамм в корпусе: 47703\n",
      "Количество грамм в корпусе: 61976\n",
      "Количество грамм в корпусе: 71149\n",
      "Количество грамм в корпусе: 81296\n",
      "Количество грамм в корпусе: 87433\n",
      "Количество грамм в корпусе: 96411\n",
      "Количество грамм в корпусе: 104551\n",
      "Количество грамм в корпусе: 112666\n"
     ]
    }
   ],
   "source": [
    "array_X = []\n",
    "for x in range(len(array_samples)):\n",
    "    array_X.append(get_texts_to_gramm_sequences(array_samples[x]['Text'], count_gramm = 3))"
   ]
  },
  {
   "cell_type": "code",
   "execution_count": 37,
   "metadata": {
    "collapsed": true
   },
   "outputs": [],
   "source": [
    "array_grams = [47703, 61976, 71149, 81296, 87433, 96411, 104551, 112666]"
   ]
  },
  {
   "cell_type": "code",
   "execution_count": 19,
   "metadata": {
    "collapsed": false,
    "deletable": true,
    "editable": true
   },
   "outputs": [],
   "source": [
    "#X = get_texts_to_matrix(data['Text'], 80000)\n",
    "#X = get_texts_to_gramm_sequences(data['Text'])\n",
    "#X = get_texts_to_sequences(data['Text'])"
   ]
  },
  {
   "cell_type": "code",
   "execution_count": 23,
   "metadata": {
    "collapsed": false,
    "deletable": true,
    "editable": true
   },
   "outputs": [
    {
     "name": "stdout",
     "output_type": "stream",
     "text": [
      "Количество грамм в корпусе: 143950\n",
      "Количество грамм в корпусе: 741852\n"
     ]
    }
   ],
   "source": [
    "X_gram_3 = get_texts_to_gramm_sequences(data['Text'], count_gramm = 3)\n",
    "X_gram_4 = get_texts_to_gramm_sequences(data['Text'], count_gramm = 4)\n",
    "#X_seq = get_texts_to_sequences(data['Text'])"
   ]
  },
  {
   "cell_type": "code",
   "execution_count": 24,
   "metadata": {
    "collapsed": true,
    "deletable": true,
    "editable": true
   },
   "outputs": [],
   "source": [
    "array_X = [X_gram_3, X_gram_4]"
   ]
  },
  {
   "cell_type": "code",
   "execution_count": 22,
   "metadata": {
    "collapsed": false,
    "deletable": true,
    "editable": true
   },
   "outputs": [],
   "source": [
    "def print_plot_mean(x):\n",
    "    means = [len(x) for x in x]\n",
    "    plt.plot(means);"
   ]
  },
  {
   "cell_type": "code",
   "execution_count": 25,
   "metadata": {
    "collapsed": false,
    "deletable": true,
    "editable": true
   },
   "outputs": [
    {
     "data": {
      "text/plain": [
       "2899"
      ]
     },
     "execution_count": 25,
     "metadata": {},
     "output_type": "execute_result"
    }
   ],
   "source": [
    "len(array_X[0])\n",
    "#print_plot_mean(X_gram_3)\n",
    "#print_plot_mean(X_gram_4)\n",
    "#print_plot_mean(X_seq)"
   ]
  },
  {
   "cell_type": "code",
   "execution_count": 38,
   "metadata": {
    "collapsed": true,
    "deletable": true,
    "editable": true
   },
   "outputs": [],
   "source": [
    "X = array_X[7]"
   ]
  },
  {
   "cell_type": "code",
   "execution_count": 40,
   "metadata": {
    "collapsed": false,
    "deletable": true,
    "editable": true
   },
   "outputs": [
    {
     "name": "stdout",
     "output_type": "stream",
     "text": [
      "3593.8669\n"
     ]
    },
    {
     "data": {
      "image/png": "[encoded data removed]",
      "text/plain": [
       "<matplotlib.figure.Figure at 0x7f05046bd748>"
      ]
     },
     "metadata": {},
     "output_type": "display_data"
    }
   ],
   "source": [
    "#plt.plot(X)\n",
    "means = [len(x) for x in X]\n",
    "print(np.mean(means))\n",
    "plt.plot(means);\n",
    "#X.plot(kind='bar', figsize=(15, 5), title=\"Number of worlds in texts\");"
   ]
  },
  {
   "cell_type": "markdown",
   "metadata": {
    "deletable": true,
    "editable": true
   },
   "source": [
    "### Разбиваем выборку на тестовую и тренировочную"
   ]
  },
  {
   "cell_type": "code",
   "execution_count": 41,
   "metadata": {
    "collapsed": true,
    "deletable": true,
    "editable": true
   },
   "outputs": [],
   "source": [
    "def get_X_y_for_traning(X, y, num_words):\n",
    "    #tokenizer = Tokenizer(num_words=num_words)\n",
    "    #X = tokenizer.sequences_to_matrix(X, mode='binary')\n",
    "\n",
    "    X = keras.preprocessing.sequence.pad_sequences(X, maxlen=num_words)     \n",
    "    y = keras.utils.to_categorical(y, num_classes)\n",
    "    print('Размерность X:', X.shape)\n",
    "    print('Размерность y:', y.shape)\n",
    "    return X, y"
   ]
  },
  {
   "cell_type": "code",
   "execution_count": 42,
   "metadata": {
    "collapsed": false
   },
   "outputs": [
    {
     "name": "stdout",
     "output_type": "stream",
     "text": [
      "Размерность X: (2000, 20000)\n",
      "Размерность y: (2000, 100)\n",
      "Размерность X: (4000, 20000)\n",
      "Размерность y: (4000, 100)\n",
      "Размерность X: (6000, 20000)\n",
      "Размерность y: (6000, 100)\n",
      "Размерность X: (8000, 20000)\n",
      "Размерность y: (8000, 100)\n",
      "Размерность X: (10000, 20000)\n",
      "Размерность y: (10000, 100)\n",
      "Размерность X: (13000, 20000)\n",
      "Размерность y: (13000, 100)\n",
      "Размерность X: (16000, 20000)\n",
      "Размерность y: (16000, 100)\n",
      "Размерность X: (20000, 20000)\n",
      "Размерность y: (20000, 100)\n"
     ]
    }
   ],
   "source": [
    "num_words = 20000\n",
    "array_sets = []\n",
    "\n",
    "for x in range(len(array_samples)):\n",
    "    X_full, y_full = get_X_y_for_traning(array_X[x], array_samples[x].Author, num_words)\n",
    "    array_sets.append(train_test_split(X_full, y_full, test_size=0.2, random_state=42))"
   ]
  },
  {
   "cell_type": "code",
   "execution_count": 30,
   "metadata": {
    "collapsed": false,
    "deletable": true,
    "editable": true
   },
   "outputs": [
    {
     "name": "stdout",
     "output_type": "stream",
     "text": [
      "Размерность X: (41941, 20000)\n",
      "Размерность y: (41941, 100)\n",
      "Размерность X: (41941, 20000)\n",
      "Размерность y: (41941, 100)\n"
     ]
    }
   ],
   "source": [
    "# Максимальное количество слов в самом длинном тексте\n",
    "num_words = 20000\n",
    "# X_full, y_full = get_X_y_for_traning(X_gram_3, data.Author, num_words)\n",
    "# X_train, X_test, y_train, y_test = train_test_split(X_full, y_full, test_size=0.2, random_state=42)\n",
    "array_sets = []\n",
    "X_full, y_full = get_X_y_for_traning(X_gram_3, data.Author, num_words)\n",
    "array_sets.append(train_test_split(X_full, y_full, test_size=0.2, random_state=42))\n",
    "\n",
    "X_full, y_full = get_X_y_for_traning(X_gram_4, data.Author, num_words)\n",
    "array_sets.append(train_test_split(X_full, y_full, test_size=0.2, random_state=42))\n",
    "\n",
    "#num_words = 2500\n",
    "#X_full, y_full = get_X_y_for_traning(X_seq, data.Author, num_words)\n",
    "#array_sets.append(train_test_split(X_full, y_full, test_size=0.2, random_state=42))\n",
    "\n",
    "#print('Testing set size:', len(X_test))\n",
    "#print('Training set size:', len(X_train))"
   ]
  },
  {
   "cell_type": "markdown",
   "metadata": {
    "deletable": true,
    "editable": true
   },
   "source": [
    "### Создание модели нейронной сети"
   ]
  },
  {
   "cell_type": "code",
   "execution_count": 54,
   "metadata": {
    "collapsed": false,
    "deletable": true,
    "editable": true
   },
   "outputs": [],
   "source": [
    "def get_lstm_model(input_length):\n",
    "    model = Sequential()\n",
    "    model.add(Embedding(input_length, 200))\n",
    "    model.add(SpatialDropout1D(0.2))\n",
    "    model.add(LSTM(128, dropout=0.3, recurrent_dropout=0.3))\n",
    "    model.add(Dense(num_classes, activation=\"sigmoid\"))\n",
    "    model.compile(loss='categorical_crossentropy', optimizer='adam', metrics=['accuracy'])\n",
    "    return model"
   ]
  },
  {
   "cell_type": "code",
   "execution_count": 32,
   "metadata": {
    "collapsed": true,
    "deletable": true,
    "editable": true
   },
   "outputs": [],
   "source": [
    "def get_bidirectional_lstm():\n",
    "    model = Sequential()\n",
    "    model.add(Embedding(80000, 200))\n",
    "    model.add(SpatialDropout1D(0.2))\n",
    "    model.add(Bidirectional(LSTM(10, dropout=0.3, recurrent_dropout=0.3)))\n",
    "    model.add(Dense(num_classes, activation=\"sigmoid\"))\n",
    "    model.compile(loss='categorical_crossentropy', optimizer='adam', metrics=['accuracy'])\n",
    "    return model"
   ]
  },
  {
   "cell_type": "code",
   "execution_count": 35,
   "metadata": {
    "collapsed": true,
    "deletable": true,
    "editable": true
   },
   "outputs": [],
   "source": [
    "def get_conv_conv_model():\n",
    "    model = Sequential()\n",
    "    model.add(Embedding(160000, 300))\n",
    "    model.add(SpatialDropout1D(0.2))\n",
    "    model.add(Conv1D(filters=512, kernel_size=3, activation='relu'))\n",
    "    model.add(MaxPooling1D())\n",
    "    model.add(Conv1D(filters=512, kernel_size=3, activation='relu'))\n",
    "    model.add(GlobalMaxPooling1D())\n",
    "    model.add(Dense(num_classes, activation=\"sigmoid\"))\n",
    "    model.compile(loss='categorical_crossentropy', optimizer='adam', metrics=['accuracy'])\n",
    "    return model"
   ]
  },
  {
   "cell_type": "code",
   "execution_count": 36,
   "metadata": {
    "collapsed": true,
    "deletable": true,
    "editable": true
   },
   "outputs": [],
   "source": [
    "def get_conv_lstm_model():\n",
    "    model = Sequential()\n",
    "    #model.add(Dense(102562, activation='relu', input_shape=(8664, 600)))\n",
    "    model.add(Embedding(100000, 200))\n",
    "    model.add(SpatialDropout1D(0.3))\n",
    "    #model.add(TimeDistributed(Conv1D(filters=512, kernel_size=3, activation='relu')))\n",
    "    #model.add(TimeDistributed(GlobalMaxPooling1D()))\n",
    "    #model.add(TimeDistributed(Flatten()))\n",
    "    model.add(Conv1D(filters=512, kernel_size=3, activation='relu'))\n",
    "    model.add(MaxPooling1D())\n",
    "    #model.add(Flatten())\n",
    "    model.add(LSTM(50, dropout=0.3, recurrent_dropout=0.3))\n",
    "    model.add(Dense(num_classes, activation=\"sigmoid\"))\n",
    "    model.compile(loss='categorical_crossentropy', optimizer='adam', metrics=['accuracy'])\n",
    "    return model"
   ]
  },
  {
   "cell_type": "code",
   "execution_count": 37,
   "metadata": {
    "collapsed": true,
    "deletable": true,
    "editable": true
   },
   "outputs": [],
   "source": [
    "def get_lstm_conv_model():\n",
    "    model = Sequential()\n",
    "    model.add(Embedding(160000, 300))\n",
    "    model.add(SpatialDropout1D(0.2))\n",
    "    model.add(LSTM(50, dropout=0.3, recurrent_dropout=0.3, return_sequences=True)) \n",
    "    #model.add(SpatialDropout1D(0.2))\n",
    "    model.add(Conv1D(filters=512, kernel_size=3, activation='sigmoid'))\n",
    "    model.add(GlobalMaxPooling1D())\n",
    "    model.add(Dense(num_classes, activation=\"sigmoid\"))\n",
    "    model.compile(loss='categorical_crossentropy', optimizer='adam', metrics=['accuracy'])\n",
    "    return model"
   ]
  },
  {
   "cell_type": "code",
   "execution_count": 43,
   "metadata": {
    "collapsed": true,
    "deletable": true,
    "editable": true
   },
   "outputs": [],
   "source": [
    "def get_conv_model(embeding_size):\n",
    "    model = Sequential()\n",
    "    model.add(Embedding(embeding_size, 200))\n",
    "    model.add(SpatialDropout1D(0.2))\n",
    "    model.add(Conv1D(filters=512, kernel_size=3, activation='relu'))\n",
    "    model.add(GlobalMaxPooling1D())\n",
    "    model.add(Dense(num_classes, activation=\"sigmoid\"))\n",
    "    model.compile(loss='categorical_crossentropy', optimizer='adam', metrics=['accuracy'])\n",
    "    return model"
   ]
  },
  {
   "cell_type": "code",
   "execution_count": 44,
   "metadata": {
    "collapsed": false
   },
   "outputs": [
    {
     "name": "stdout",
     "output_type": "stream",
     "text": [
      "_________________________________________________________________\n",
      "Layer (type)                 Output Shape              Param #   \n",
      "=================================================================\n",
      "embedding_1 (Embedding)      (None, None, 200)         9540600   \n",
      "_________________________________________________________________\n",
      "spatial_dropout1d_1 (Spatial (None, None, 200)         0         \n",
      "_________________________________________________________________\n",
      "conv1d_1 (Conv1D)            (None, None, 512)         307712    \n",
      "_________________________________________________________________\n",
      "global_max_pooling1d_1 (Glob (None, 512)               0         \n",
      "_________________________________________________________________\n",
      "dense_1 (Dense)              (None, 100)               51300     \n",
      "=================================================================\n",
      "Total params: 9,899,612\n",
      "Trainable params: 9,899,612\n",
      "Non-trainable params: 0\n",
      "_________________________________________________________________\n",
      "Train on 1600 samples, validate on 400 samples\n",
      "Epoch 1/10\n",
      "99s - loss: 4.6237 - acc: 0.0138 - val_loss: 4.6148 - val_acc: 0.0150\n",
      "Epoch 2/10\n",
      "61s - loss: 4.5297 - acc: 0.0306 - val_loss: 4.5624 - val_acc: 0.0225\n",
      "Epoch 3/10\n",
      "61s - loss: 4.2342 - acc: 0.1056 - val_loss: 4.1200 - val_acc: 0.1175\n",
      "Epoch 4/10\n",
      "61s - loss: 3.2280 - acc: 0.3825 - val_loss: 3.4418 - val_acc: 0.1975\n",
      "Epoch 5/10\n",
      "61s - loss: 1.8521 - acc: 0.6831 - val_loss: 2.9610 - val_acc: 0.2875\n",
      "Epoch 6/10\n",
      "61s - loss: 0.8098 - acc: 0.8994 - val_loss: 2.7670 - val_acc: 0.3350\n",
      "Epoch 7/10\n",
      "61s - loss: 0.3514 - acc: 0.9725 - val_loss: 2.6555 - val_acc: 0.3500\n",
      "Epoch 8/10\n",
      "61s - loss: 0.1596 - acc: 0.9919 - val_loss: 2.5679 - val_acc: 0.3700\n",
      "Epoch 9/10\n",
      "60s - loss: 0.0917 - acc: 0.9956 - val_loss: 2.5549 - val_acc: 0.3775\n",
      "Epoch 10/10\n",
      "60s - loss: 0.0637 - acc: 0.9956 - val_loss: 2.5744 - val_acc: 0.3725\n",
      "_________________________________________________________________\n",
      "Layer (type)                 Output Shape              Param #   \n",
      "=================================================================\n",
      "embedding_2 (Embedding)      (None, None, 200)         12395200  \n",
      "_________________________________________________________________\n",
      "spatial_dropout1d_2 (Spatial (None, None, 200)         0         \n",
      "_________________________________________________________________\n",
      "conv1d_2 (Conv1D)            (None, None, 512)         307712    \n",
      "_________________________________________________________________\n",
      "global_max_pooling1d_2 (Glob (None, 512)               0         \n",
      "_________________________________________________________________\n",
      "dense_2 (Dense)              (None, 100)               51300     \n",
      "=================================================================\n",
      "Total params: 12,754,212\n",
      "Trainable params: 12,754,212\n",
      "Non-trainable params: 0\n",
      "_________________________________________________________________\n",
      "Train on 3200 samples, validate on 800 samples\n",
      "Epoch 1/10\n",
      "123s - loss: 4.5924 - acc: 0.0191 - val_loss: 4.5073 - val_acc: 0.0375\n",
      "Epoch 2/10\n",
      "123s - loss: 4.0430 - acc: 0.1156 - val_loss: 3.6338 - val_acc: 0.2137\n",
      "Epoch 3/10\n",
      "123s - loss: 2.5580 - acc: 0.4412 - val_loss: 2.6608 - val_acc: 0.3613\n",
      "Epoch 4/10\n",
      "122s - loss: 1.2728 - acc: 0.7191 - val_loss: 2.2977 - val_acc: 0.4437\n",
      "Epoch 5/10\n",
      "123s - loss: 0.6157 - acc: 0.8806 - val_loss: 2.1990 - val_acc: 0.4425\n",
      "Epoch 6/10\n",
      "122s - loss: 0.2681 - acc: 0.9694 - val_loss: 2.1141 - val_acc: 0.4788\n",
      "Epoch 7/10\n",
      "123s - loss: 0.1232 - acc: 0.9919 - val_loss: 2.0736 - val_acc: 0.4863\n",
      "Epoch 8/10\n",
      "123s - loss: 0.0636 - acc: 0.9972 - val_loss: 2.0798 - val_acc: 0.5062\n",
      "Epoch 9/10\n",
      "123s - loss: 0.0419 - acc: 0.9972 - val_loss: 2.0557 - val_acc: 0.5062\n",
      "Epoch 10/10\n",
      "123s - loss: 0.0315 - acc: 0.9972 - val_loss: 2.0580 - val_acc: 0.5100\n",
      "_________________________________________________________________\n",
      "Layer (type)                 Output Shape              Param #   \n",
      "=================================================================\n",
      "embedding_3 (Embedding)      (None, None, 200)         14229800  \n",
      "_________________________________________________________________\n",
      "spatial_dropout1d_3 (Spatial (None, None, 200)         0         \n",
      "_________________________________________________________________\n",
      "conv1d_3 (Conv1D)            (None, None, 512)         307712    \n",
      "_________________________________________________________________\n",
      "global_max_pooling1d_3 (Glob (None, 512)               0         \n",
      "_________________________________________________________________\n",
      "dense_3 (Dense)              (None, 100)               51300     \n",
      "=================================================================\n",
      "Total params: 14,588,812\n",
      "Trainable params: 14,588,812\n",
      "Non-trainable params: 0\n",
      "_________________________________________________________________\n",
      "Train on 4800 samples, validate on 1200 samples\n",
      "Epoch 1/10\n",
      "186s - loss: 4.5307 - acc: 0.0252 - val_loss: 4.2173 - val_acc: 0.0758\n",
      "Epoch 2/10\n",
      "186s - loss: 3.1930 - acc: 0.2948 - val_loss: 2.4727 - val_acc: 0.4092\n",
      "Epoch 3/10\n",
      "185s - loss: 1.5517 - acc: 0.6296 - val_loss: 1.9273 - val_acc: 0.5292\n",
      "Epoch 4/10\n",
      "186s - loss: 0.7953 - acc: 0.8237 - val_loss: 1.7473 - val_acc: 0.5675\n",
      "Epoch 5/10\n",
      "184s - loss: 0.3992 - acc: 0.9221 - val_loss: 1.6681 - val_acc: 0.5875\n",
      "Epoch 6/10\n",
      "185s - loss: 0.1892 - acc: 0.9800 - val_loss: 1.6178 - val_acc: 0.5858\n",
      "Epoch 7/10\n",
      "184s - loss: 0.0886 - acc: 0.9935 - val_loss: 1.5687 - val_acc: 0.6017\n",
      "Epoch 8/10\n",
      "185s - loss: 0.0516 - acc: 0.9962 - val_loss: 1.5503 - val_acc: 0.6225\n",
      "Epoch 9/10\n",
      "185s - loss: 0.0365 - acc: 0.9969 - val_loss: 1.5619 - val_acc: 0.6117\n",
      "Epoch 10/10\n",
      "184s - loss: 0.0288 - acc: 0.9969 - val_loss: 1.5560 - val_acc: 0.6200\n",
      "_________________________________________________________________\n",
      "Layer (type)                 Output Shape              Param #   \n",
      "=================================================================\n",
      "embedding_4 (Embedding)      (None, None, 200)         16259200  \n",
      "_________________________________________________________________\n",
      "spatial_dropout1d_4 (Spatial (None, None, 200)         0         \n",
      "_________________________________________________________________\n",
      "conv1d_4 (Conv1D)            (None, None, 512)         307712    \n",
      "_________________________________________________________________\n",
      "global_max_pooling1d_4 (Glob (None, 512)               0         \n",
      "_________________________________________________________________\n",
      "dense_4 (Dense)              (None, 100)               51300     \n",
      "=================================================================\n",
      "Total params: 16,618,212\n",
      "Trainable params: 16,618,212\n",
      "Non-trainable params: 0\n",
      "_________________________________________________________________\n",
      "Train on 6400 samples, validate on 1600 samples\n",
      "Epoch 1/10\n",
      "248s - loss: 4.3646 - acc: 0.0570 - val_loss: 3.6591 - val_acc: 0.1950\n",
      "Epoch 2/10\n",
      "247s - loss: 2.4017 - acc: 0.4416 - val_loss: 2.0684 - val_acc: 0.4919\n",
      "Epoch 3/10\n",
      "247s - loss: 1.1853 - acc: 0.7084 - val_loss: 1.7039 - val_acc: 0.5637\n",
      "Epoch 4/10\n",
      "249s - loss: 0.6341 - acc: 0.8533 - val_loss: 1.5700 - val_acc: 0.6056\n",
      "Epoch 5/10\n",
      "247s - loss: 0.3141 - acc: 0.9383 - val_loss: 1.6300 - val_acc: 0.5913\n",
      "Epoch 6/10\n",
      "248s - loss: 0.1391 - acc: 0.9831 - val_loss: 1.4773 - val_acc: 0.6356\n",
      "Epoch 7/10\n",
      "247s - loss: 0.0697 - acc: 0.9931 - val_loss: 1.4508 - val_acc: 0.6438\n",
      "Epoch 8/10\n",
      "247s - loss: 0.0394 - acc: 0.9959 - val_loss: 1.4870 - val_acc: 0.6519\n",
      "Epoch 9/10\n",
      "248s - loss: 0.0288 - acc: 0.9959 - val_loss: 1.4753 - val_acc: 0.6488\n",
      "Epoch 10/10\n",
      "248s - loss: 0.0234 - acc: 0.9962 - val_loss: 1.4848 - val_acc: 0.6538\n",
      "_________________________________________________________________\n",
      "Layer (type)                 Output Shape              Param #   \n",
      "=================================================================\n",
      "embedding_5 (Embedding)      (None, None, 200)         17486600  \n",
      "_________________________________________________________________\n",
      "spatial_dropout1d_5 (Spatial (None, None, 200)         0         \n",
      "_________________________________________________________________\n",
      "conv1d_5 (Conv1D)            (None, None, 512)         307712    \n",
      "_________________________________________________________________\n",
      "global_max_pooling1d_5 (Glob (None, 512)               0         \n",
      "_________________________________________________________________\n",
      "dense_5 (Dense)              (None, 100)               51300     \n",
      "=================================================================\n",
      "Total params: 17,845,612\n",
      "Trainable params: 17,845,612\n",
      "Non-trainable params: 0\n",
      "_________________________________________________________________\n",
      "Train on 8000 samples, validate on 2000 samples\n",
      "Epoch 1/10\n",
      "310s - loss: 4.1848 - acc: 0.0943 - val_loss: 3.0952 - val_acc: 0.3015\n",
      "Epoch 2/10\n",
      "310s - loss: 2.0345 - acc: 0.5095 - val_loss: 1.7585 - val_acc: 0.5710\n",
      "Epoch 3/10\n",
      "310s - loss: 1.0373 - acc: 0.7406 - val_loss: 1.5711 - val_acc: 0.6065\n",
      "Epoch 4/10\n",
      "310s - loss: 0.5726 - acc: 0.8601 - val_loss: 1.4230 - val_acc: 0.6415\n",
      "Epoch 5/10\n",
      "309s - loss: 0.2820 - acc: 0.9427 - val_loss: 1.5047 - val_acc: 0.6400\n",
      "Epoch 6/10\n",
      "309s - loss: 0.1352 - acc: 0.9806 - val_loss: 1.4230 - val_acc: 0.6490\n",
      "Epoch 7/10\n",
      "309s - loss: 0.0630 - acc: 0.9945 - val_loss: 1.4037 - val_acc: 0.6470\n",
      "Epoch 8/10\n",
      "310s - loss: 0.0364 - acc: 0.9966 - val_loss: 1.3879 - val_acc: 0.6600\n",
      "Epoch 9/10\n",
      "309s - loss: 0.0263 - acc: 0.9970 - val_loss: 1.3747 - val_acc: 0.6680\n",
      "Epoch 10/10\n",
      "309s - loss: 0.0214 - acc: 0.9973 - val_loss: 1.3962 - val_acc: 0.6680\n",
      "_________________________________________________________________\n",
      "Layer (type)                 Output Shape              Param #   \n",
      "=================================================================\n",
      "embedding_6 (Embedding)      (None, None, 200)         19282200  \n",
      "_________________________________________________________________\n",
      "spatial_dropout1d_6 (Spatial (None, None, 200)         0         \n",
      "_________________________________________________________________\n",
      "conv1d_6 (Conv1D)            (None, None, 512)         307712    \n",
      "_________________________________________________________________\n",
      "global_max_pooling1d_6 (Glob (None, 512)               0         \n",
      "_________________________________________________________________\n",
      "dense_6 (Dense)              (None, 100)               51300     \n",
      "=================================================================\n",
      "Total params: 19,641,212\n",
      "Trainable params: 19,641,212\n",
      "Non-trainable params: 0\n",
      "_________________________________________________________________\n",
      "Train on 10400 samples, validate on 2600 samples\n",
      "Epoch 1/10\n",
      "409s - loss: 3.8495 - acc: 0.1520 - val_loss: 2.3616 - val_acc: 0.4246\n",
      "Epoch 2/10\n",
      "404s - loss: 1.5994 - acc: 0.5982 - val_loss: 1.5304 - val_acc: 0.6042\n",
      "Epoch 3/10\n",
      "404s - loss: 0.8362 - acc: 0.7887 - val_loss: 1.2866 - val_acc: 0.6696\n",
      "Epoch 4/10\n",
      "403s - loss: 0.4539 - acc: 0.8915 - val_loss: 1.2099 - val_acc: 0.6935\n",
      "Epoch 5/10\n",
      "404s - loss: 0.2293 - acc: 0.9573 - val_loss: 1.1895 - val_acc: 0.6996\n",
      "Epoch 6/10\n",
      "402s - loss: 0.1031 - acc: 0.9873 - val_loss: 1.1381 - val_acc: 0.7162\n",
      "Epoch 7/10\n",
      "403s - loss: 0.0501 - acc: 0.9956 - val_loss: 1.1725 - val_acc: 0.7142\n",
      "Epoch 8/10\n",
      "404s - loss: 0.0313 - acc: 0.9966 - val_loss: 1.1484 - val_acc: 0.7265\n",
      "Epoch 9/10\n",
      "403s - loss: 0.0250 - acc: 0.9968 - val_loss: 1.1438 - val_acc: 0.7354\n",
      "Epoch 10/10\n",
      "404s - loss: 0.0214 - acc: 0.9966 - val_loss: 1.1586 - val_acc: 0.7319\n",
      "_________________________________________________________________\n",
      "Layer (type)                 Output Shape              Param #   \n",
      "=================================================================\n",
      "embedding_7 (Embedding)      (None, None, 200)         20910200  \n",
      "_________________________________________________________________\n",
      "spatial_dropout1d_7 (Spatial (None, None, 200)         0         \n",
      "_________________________________________________________________\n",
      "conv1d_7 (Conv1D)            (None, None, 512)         307712    \n",
      "_________________________________________________________________\n",
      "global_max_pooling1d_7 (Glob (None, 512)               0         \n",
      "_________________________________________________________________\n",
      "dense_7 (Dense)              (None, 100)               51300     \n",
      "=================================================================\n",
      "Total params: 21,269,212\n",
      "Trainable params: 21,269,212\n",
      "Non-trainable params: 0\n",
      "_________________________________________________________________\n",
      "Train on 12800 samples, validate on 3200 samples\n",
      "Epoch 1/10\n",
      "499s - loss: 3.5690 - acc: 0.2049 - val_loss: 2.1097 - val_acc: 0.4884\n",
      "Epoch 2/10\n",
      "497s - loss: 1.4117 - acc: 0.6440 - val_loss: 1.3929 - val_acc: 0.6419\n",
      "Epoch 3/10\n",
      "498s - loss: 0.7692 - acc: 0.8020 - val_loss: 1.2368 - val_acc: 0.6772\n",
      "Epoch 4/10\n",
      "497s - loss: 0.4216 - acc: 0.8965 - val_loss: 1.1936 - val_acc: 0.6909\n",
      "Epoch 5/10\n",
      "498s - loss: 0.2115 - acc: 0.9577 - val_loss: 1.2139 - val_acc: 0.7009\n",
      "Epoch 6/10\n",
      "498s - loss: 0.0974 - acc: 0.9866 - val_loss: 1.2631 - val_acc: 0.6922\n",
      "Epoch 7/10\n",
      "498s - loss: 0.0447 - acc: 0.9955 - val_loss: 1.1747 - val_acc: 0.7156\n",
      "Epoch 8/10\n",
      "498s - loss: 0.0287 - acc: 0.9961 - val_loss: 1.2079 - val_acc: 0.7150\n",
      "Epoch 9/10\n",
      "497s - loss: 0.0331 - acc: 0.9941 - val_loss: 1.1992 - val_acc: 0.7212\n",
      "Epoch 10/10\n",
      "499s - loss: 0.0159 - acc: 0.9973 - val_loss: 1.1863 - val_acc: 0.7275\n",
      "_________________________________________________________________\n",
      "Layer (type)                 Output Shape              Param #   \n",
      "=================================================================\n",
      "embedding_8 (Embedding)      (None, None, 200)         22533200  \n",
      "_________________________________________________________________\n",
      "spatial_dropout1d_8 (Spatial (None, None, 200)         0         \n",
      "_________________________________________________________________\n",
      "conv1d_8 (Conv1D)            (None, None, 512)         307712    \n",
      "_________________________________________________________________\n",
      "global_max_pooling1d_8 (Glob (None, 512)               0         \n",
      "_________________________________________________________________\n",
      "dense_8 (Dense)              (None, 100)               51300     \n",
      "=================================================================\n",
      "Total params: 22,892,212\n",
      "Trainable params: 22,892,212\n",
      "Non-trainable params: 0\n",
      "_________________________________________________________________\n",
      "Train on 16000 samples, validate on 4000 samples\n",
      "Epoch 1/10\n",
      "624s - loss: 3.2397 - acc: 0.2634 - val_loss: 1.7119 - val_acc: 0.5800\n",
      "Epoch 2/10\n",
      "622s - loss: 1.2322 - acc: 0.6857 - val_loss: 1.2278 - val_acc: 0.6860\n",
      "Epoch 3/10\n",
      "623s - loss: 0.6890 - acc: 0.8216 - val_loss: 1.0631 - val_acc: 0.7255\n",
      "Epoch 4/10\n",
      "623s - loss: 0.3760 - acc: 0.9065 - val_loss: 1.0777 - val_acc: 0.7268\n",
      "Epoch 5/10\n",
      "623s - loss: 0.1923 - acc: 0.9581 - val_loss: 1.0050 - val_acc: 0.7470\n",
      "Epoch 6/10\n",
      "624s - loss: 0.0842 - acc: 0.9873 - val_loss: 1.0811 - val_acc: 0.7428\n",
      "Epoch 7/10\n",
      "622s - loss: 0.0392 - acc: 0.9957 - val_loss: 1.0138 - val_acc: 0.7590\n",
      "Epoch 8/10\n",
      "622s - loss: 0.0247 - acc: 0.9966 - val_loss: 1.0176 - val_acc: 0.7612\n",
      "Epoch 9/10\n",
      "623s - loss: 0.0194 - acc: 0.9968 - val_loss: 1.0281 - val_acc: 0.7638\n",
      "Epoch 10/10\n",
      "622s - loss: 0.0168 - acc: 0.9969 - val_loss: 1.0438 - val_acc: 0.7648\n"
     ]
    }
   ],
   "source": [
    "for x in range(len(array_sets)):\n",
    "    X_train, X_test, y_train, y_test = array_sets[x]\n",
    "    model = get_conv_model(embeding_size=array_grams[x])\n",
    "    \n",
    "    model.summary()\n",
    "\n",
    "    BATCH_SIZE = 32\n",
    "    EPOCHS = 10\n",
    "    VERBOSE = 2\n",
    "\n",
    "    history = model.fit(X_train, y_train,\n",
    "                        batch_size=BATCH_SIZE,\n",
    "                        epochs=EPOCHS, verbose=VERBOSE,\n",
    "                        validation_data=(X_test, y_test)\n",
    "                        #validation_split=0.1, \n",
    "                        #callbacks=[EarlyStopping(monitor='val_loss')]\n",
    "                       )\n",
    "    #hist_array.append(history)"
   ]
  },
  {
   "cell_type": "code",
   "execution_count": null,
   "metadata": {
    "collapsed": false,
    "deletable": true,
    "editable": true
   },
   "outputs": [
    {
     "name": "stdout",
     "output_type": "stream",
     "text": [
      "_________________________________________________________________\n",
      "Layer (type)                 Output Shape              Param #   \n",
      "=================================================================\n",
      "embedding_1 (Embedding)      (None, None, 200)         28790000  \n",
      "_________________________________________________________________\n",
      "spatial_dropout1d_1 (Spatial (None, None, 200)         0         \n",
      "_________________________________________________________________\n",
      "conv1d_1 (Conv1D)            (None, None, 512)         307712    \n",
      "_________________________________________________________________\n",
      "global_max_pooling1d_1 (Glob (None, 512)               0         \n",
      "_________________________________________________________________\n",
      "dense_1 (Dense)              (None, 100)               51300     \n",
      "=================================================================\n",
      "Total params: 29,149,012\n",
      "Trainable params: 29,149,012\n",
      "Non-trainable params: 0\n",
      "_________________________________________________________________\n",
      "Train on 33552 samples, validate on 8389 samples\n",
      "Epoch 1/10\n",
      "1371s - loss: 2.2435 - acc: 0.4698 - val_loss: 1.2052 - val_acc: 0.6814\n",
      "Epoch 2/10\n",
      "1323s - loss: 0.8342 - acc: 0.7783 - val_loss: 0.9067 - val_acc: 0.7600\n",
      "Epoch 3/10\n",
      "1390s - loss: 0.4833 - acc: 0.8700 - val_loss: 0.8965 - val_acc: 0.7676\n",
      "Epoch 4/10\n",
      "1385s - loss: 0.2750 - acc: 0.9281 - val_loss: 0.8238 - val_acc: 0.7907\n",
      "Epoch 5/10\n",
      "1412s - loss: 0.1448 - acc: 0.9633 - val_loss: 0.9298 - val_acc: 0.7791\n",
      "Epoch 6/10\n",
      "1323s - loss: 0.0879 - acc: 0.9785 - val_loss: 1.0081 - val_acc: 0.7832\n",
      "Epoch 7/10\n",
      "1322s - loss: 0.0860 - acc: 0.9765 - val_loss: 1.1037 - val_acc: 0.7758\n",
      "Epoch 8/10\n",
      "1322s - loss: 0.0650 - acc: 0.9814 - val_loss: 1.0688 - val_acc: 0.7877\n",
      "Epoch 9/10\n",
      "1323s - loss: 0.0590 - acc: 0.9846 - val_loss: 1.1037 - val_acc: 0.7896\n",
      "Epoch 10/10\n",
      "1360s - loss: 0.0540 - acc: 0.9849 - val_loss: 1.2377 - val_acc: 0.7833\n",
      "_________________________________________________________________\n",
      "Layer (type)                 Output Shape              Param #   \n",
      "=================================================================\n",
      "embedding_2 (Embedding)      (None, None, 200)         148370400 \n",
      "_________________________________________________________________\n",
      "spatial_dropout1d_2 (Spatial (None, None, 200)         0         \n",
      "_________________________________________________________________\n",
      "conv1d_2 (Conv1D)            (None, None, 512)         307712    \n",
      "_________________________________________________________________\n",
      "global_max_pooling1d_2 (Glob (None, 512)               0         \n",
      "_________________________________________________________________\n",
      "dense_2 (Dense)              (None, 100)               51300     \n",
      "=================================================================\n",
      "Total params: 148,729,412\n",
      "Trainable params: 148,729,412\n",
      "Non-trainable params: 0\n",
      "_________________________________________________________________\n"
     ]
    },
    {
     "name": "stderr",
     "output_type": "stream",
     "text": [
      "/anaconda/envs/py35/lib/python3.5/site-packages/tensorflow/python/ops/gradients_impl.py:90: UserWarning: Converting sparse IndexedSlices to a dense Tensor with 148370400 elements. This may consume a large amount of memory.\n",
      "  \"This may consume a large amount of memory.\" % num_elements)\n"
     ]
    },
    {
     "name": "stdout",
     "output_type": "stream",
     "text": [
      "Train on 33552 samples, validate on 8389 samples\n",
      "Epoch 1/10\n",
      "1467s - loss: 2.1483 - acc: 0.4987 - val_loss: 1.1091 - val_acc: 0.7116\n",
      "Epoch 2/10\n",
      "1513s - loss: 0.7308 - acc: 0.8094 - val_loss: 0.8739 - val_acc: 0.7715\n",
      "Epoch 3/10\n",
      "1566s - loss: 0.3297 - acc: 0.9128 - val_loss: 0.8892 - val_acc: 0.7771\n",
      "Epoch 4/10\n",
      "1633s - loss: 0.1196 - acc: 0.9724 - val_loss: 0.8766 - val_acc: 0.7870\n",
      "Epoch 5/10\n",
      "1634s - loss: 0.0529 - acc: 0.9876 - val_loss: 0.9243 - val_acc: 0.7898\n",
      "Epoch 6/10\n",
      "1633s - loss: 0.0532 - acc: 0.9866 - val_loss: 1.0945 - val_acc: 0.7703\n",
      "Epoch 7/10\n",
      "1633s - loss: 0.0816 - acc: 0.9751 - val_loss: 1.1049 - val_acc: 0.7883\n",
      "Epoch 8/10\n",
      "1633s - loss: 0.0481 - acc: 0.9865 - val_loss: 1.3241 - val_acc: 0.7672\n",
      "Epoch 9/10\n"
     ]
    }
   ],
   "source": [
    "hist_array = []\n",
    "for i, (X_train, X_test, y_train, y_test) in enumerate(array_sets):\n",
    "    if i == 0:\n",
    "        model = get_conv_model(embeding_size=143950) # 53.1 6-epoch\n",
    "    if i == 1:\n",
    "        model = get_conv_model(embeding_size=741852) # 53.1 6-epoch\n",
    "    if i == 2:\n",
    "        model = get_conv_model(embeding_size=1359198) # 53.1 6-epoch\n",
    "        \n",
    "    model.summary()\n",
    "\n",
    "    BATCH_SIZE = 32\n",
    "    EPOCHS = 10\n",
    "    VERBOSE = 2\n",
    "\n",
    "    history = model.fit(X_train, y_train,\n",
    "                        batch_size=BATCH_SIZE,\n",
    "                        epochs=EPOCHS, verbose=VERBOSE,\n",
    "                        validation_data=(X_test, y_test)\n",
    "                        #validation_split=0.1, \n",
    "                        #callbacks=[EarlyStopping(monitor='val_loss')]\n",
    "                       )\n",
    "    #hist_array.append(history)"
   ]
  },
  {
   "cell_type": "code",
   "execution_count": 26,
   "metadata": {
    "collapsed": false,
    "deletable": true,
    "editable": true
   },
   "outputs": [
    {
     "name": "stdout",
     "output_type": "stream",
     "text": [
      "_________________________________________________________________\n",
      "Layer (type)                 Output Shape              Param #   \n",
      "=================================================================\n",
      "embedding_1 (Embedding)      (None, None, 200)         271839600 \n",
      "_________________________________________________________________\n",
      "spatial_dropout1d_1 (Spatial (None, None, 200)         0         \n",
      "_________________________________________________________________\n",
      "conv1d_1 (Conv1D)            (None, None, 512)         307712    \n",
      "_________________________________________________________________\n",
      "global_max_pooling1d_1 (Glob (None, 512)               0         \n",
      "_________________________________________________________________\n",
      "dense_1 (Dense)              (None, 100)               51300     \n",
      "=================================================================\n",
      "Total params: 272,198,612\n",
      "Trainable params: 272,198,612\n",
      "Non-trainable params: 0\n",
      "_________________________________________________________________\n"
     ]
    },
    {
     "name": "stderr",
     "output_type": "stream",
     "text": [
      "/anaconda/envs/py35/lib/python3.5/site-packages/tensorflow/python/ops/gradients_impl.py:90: UserWarning: Converting sparse IndexedSlices to a dense Tensor with 271839600 elements. This may consume a large amount of memory.\n",
      "  \"This may consume a large amount of memory.\" % num_elements)\n"
     ]
    },
    {
     "name": "stdout",
     "output_type": "stream",
     "text": [
      "Train on 33552 samples, validate on 8389 samples\n",
      "Epoch 1/10\n",
      "1313s - loss: 2.0779 - acc: 0.4987 - val_loss: 1.2015 - val_acc: 0.6852\n",
      "Epoch 2/10\n",
      "1298s - loss: 0.5818 - acc: 0.8517 - val_loss: 1.0358 - val_acc: 0.7355\n",
      "Epoch 3/10\n",
      "1294s - loss: 0.0694 - acc: 0.9855 - val_loss: 1.1773 - val_acc: 0.7192\n",
      "Epoch 4/10\n",
      "1289s - loss: 0.0301 - acc: 0.9926 - val_loss: 1.5661 - val_acc: 0.6690\n",
      "Epoch 5/10\n",
      "1289s - loss: 0.0271 - acc: 0.9927 - val_loss: 1.4401 - val_acc: 0.7010\n",
      "Epoch 6/10\n",
      "1291s - loss: 0.0208 - acc: 0.9940 - val_loss: 1.5282 - val_acc: 0.7052\n",
      "Epoch 7/10\n",
      "1289s - loss: 0.0199 - acc: 0.9948 - val_loss: 1.4818 - val_acc: 0.7196\n",
      "Epoch 8/10\n",
      "1292s - loss: 0.0159 - acc: 0.9958 - val_loss: 1.5540 - val_acc: 0.7190\n",
      "Epoch 9/10\n",
      "1293s - loss: 0.0218 - acc: 0.9941 - val_loss: 1.6801 - val_acc: 0.7101\n",
      "Epoch 10/10\n",
      "1275s - loss: 0.0082 - acc: 0.6891 - val_loss: 1.1921e-07 - val_acc: 0.0123\n"
     ]
    }
   ],
   "source": [
    "X_train, X_test, y_train, y_test = array_sets[2]\n",
    "\n",
    "model = get_conv_model(embeding_size=1359198) # 53.1 6-epoch\n",
    "\n",
    "model.summary()\n",
    "\n",
    "BATCH_SIZE = 8\n",
    "EPOCHS = 10\n",
    "VERBOSE = 2\n",
    "\n",
    "history = model.fit(X_train, y_train,\n",
    "                    batch_size=BATCH_SIZE,\n",
    "                    epochs=EPOCHS, verbose=VERBOSE,\n",
    "                    validation_data=(X_test, y_test)\n",
    "                    #validation_split=0.1, \n",
    "                    #callbacks=[EarlyStopping(monitor='val_loss')]\n",
    "                   )"
   ]
  },
  {
   "cell_type": "code",
   "execution_count": 1,
   "metadata": {
    "collapsed": false,
    "deletable": true,
    "editable": true
   },
   "outputs": [
    {
     "ename": "NameError",
     "evalue": "name 'hist_array' is not defined",
     "output_type": "error",
     "traceback": [
      "\u001b[1;31m---------------------------------------------------------------------------\u001b[0m",
      "\u001b[1;31mNameError\u001b[0m                                 Traceback (most recent call last)",
      "\u001b[1;32m<ipython-input-1-20cb28469f75>\u001b[0m in \u001b[0;36m<module>\u001b[1;34m()\u001b[0m\n\u001b[1;32m----> 1\u001b[1;33m \u001b[0mlen\u001b[0m\u001b[1;33m(\u001b[0m\u001b[0mhist_array\u001b[0m\u001b[1;33m)\u001b[0m\u001b[1;33m\u001b[0m\u001b[0m\n\u001b[0m",
      "\u001b[1;31mNameError\u001b[0m: name 'hist_array' is not defined"
     ]
    }
   ],
   "source": [
    "len(hist_array)"
   ]
  },
  {
   "cell_type": "code",
   "execution_count": null,
   "metadata": {
    "collapsed": false,
    "deletable": true,
    "editable": true
   },
   "outputs": [
    {
     "name": "stdout",
     "output_type": "stream",
     "text": [
      "_________________________________________________________________\n",
      "Layer (type)                 Output Shape              Param #   \n",
      "=================================================================\n",
      "embedding_2 (Embedding)      (None, None, 200)         30192200  \n",
      "_________________________________________________________________\n",
      "spatial_dropout1d_2 (Spatial (None, None, 200)         0         \n",
      "_________________________________________________________________\n",
      "conv1d_2 (Conv1D)            (None, None, 512)         307712    \n",
      "_________________________________________________________________\n",
      "global_max_pooling1d_2 (Glob (None, 512)               0         \n",
      "_________________________________________________________________\n",
      "dense_2 (Dense)              (None, 50)                25650     \n",
      "=================================================================\n",
      "Total params: 30,525,562\n",
      "Trainable params: 30,525,562\n",
      "Non-trainable params: 0\n",
      "_________________________________________________________________\n",
      "Train on 21942 samples, validate on 2438 samples\n",
      "Epoch 1/7\n",
      "880s - loss: 1.6866 - acc: 0.5625 - val_loss: 0.8000 - val_acc: 0.7834\n",
      "Epoch 2/7\n",
      "845s - loss: 0.5167 - acc: 0.8571 - val_loss: 0.6162 - val_acc: 0.8322\n",
      "Epoch 3/7\n",
      "839s - loss: 0.2761 - acc: 0.9240 - val_loss: 0.5604 - val_acc: 0.8450\n",
      "Epoch 4/7\n",
      "884s - loss: 0.1374 - acc: 0.9642 - val_loss: 0.5371 - val_acc: 0.8548\n",
      "Epoch 5/7\n",
      "869s - loss: 0.0684 - acc: 0.9842 - val_loss: 0.5467 - val_acc: 0.8548\n",
      "Epoch 6/7\n",
      "906s - loss: 0.0384 - acc: 0.9906 - val_loss: 0.5350 - val_acc: 0.8610\n",
      "Epoch 7/7\n",
      "841s - loss: 0.0285 - acc: 0.9919 - val_loss: 0.5093 - val_acc: 0.8745\n",
      "CPU times: user 50min 53s, sys: 19min 13s, total: 1h 10min 7s\n",
      "Wall time: 1h 41min 9s\n"
     ]
    }
   ],
   "source": [
    "%%time\n",
    "#model = get_lstm_model(120000) # 34.10 10-epoch\n",
    "#model = get_bidirectional_lstm() # 50.86 20-epoch\n",
    "model = get_conv_model() # 53.1 6-epoch\n",
    "#model = get_conv_conv_model() # 54.04 7-epoch\n",
    "#model = get_conv_lstm_model() # 53.17 10-epoch\n",
    "#model = get_lstm_conv_model() # 52.60 10-epoch\n",
    "\n",
    "model.summary()\n",
    "\n",
    "BATCH_SIZE = 32\n",
    "EPOCHS = 7\n",
    "VERBOSE = 2\n",
    "\n",
    "history = model.fit(X_train, y_train, \n",
    "                    batch_size=BATCH_SIZE, \n",
    "                    epochs=EPOCHS, verbose=VERBOSE, \n",
    "                    validation_split=0.1, \n",
    "                    #callbacks=[EarlyStopping(monitor='val_loss')]\n",
    "                   )"
   ]
  },
  {
   "cell_type": "code",
   "execution_count": 59,
   "metadata": {
    "collapsed": false,
    "deletable": true,
    "editable": true
   },
   "outputs": [
    {
     "name": "stdout",
     "output_type": "stream",
     "text": [
      "Точность модели составляет: 88.3182937009497\n"
     ]
    }
   ],
   "source": [
    "print('Точность модели составляет: {}'.format(model.evaluate(X_test, y_test, batch_size=64, verbose=2)[1] * 100))"
   ]
  },
  {
   "cell_type": "code",
   "execution_count": 60,
   "metadata": {
    "collapsed": false,
    "deletable": true,
    "editable": true
   },
   "outputs": [
    {
     "name": "stdout",
     "output_type": "stream",
     "text": [
      "dict_keys(['val_loss', 'loss', 'val_acc', 'acc'])\n"
     ]
    },
    {
     "data": {
      "image/png": "[encoded data removed]",
      "text/plain": [
       "<matplotlib.figure.Figure at 0x7f5acf946438>"
      ]
     },
     "metadata": {},
     "output_type": "display_data"
    },
    {
     "data": {
      "image/png": "[encoded data removed]",
      "text/plain": [
       "<matplotlib.figure.Figure at 0x7f5ac0ad3b70>"
      ]
     },
     "metadata": {},
     "output_type": "display_data"
    }
   ],
   "source": [
    "from matplotlib import pyplot as plt\n",
    "print(history.history.keys())\n",
    "plt.plot(history.history['acc'])\n",
    "plt.plot(history.history['val_acc'])\n",
    "plt.title('model accuracy')\n",
    "plt.ylabel('accuracy')\n",
    "plt.xlabel('epoch')\n",
    "plt.legend(['train', 'valid'], loc='upper left')\n",
    "plt.show();\n",
    "# summarize history for loss\n",
    "plt.plot(history.history['loss'])\n",
    "plt.plot(history.history['val_loss'])\n",
    "plt.title('model loss')\n",
    "plt.ylabel('loss')\n",
    "plt.xlabel('epoch')\n",
    "plt.legend(['train', 'valid'], loc='upper left')\n",
    "plt.show();"
   ]
  },
  {
   "cell_type": "code",
   "execution_count": 44,
   "metadata": {
    "collapsed": true,
    "deletable": true,
    "editable": true
   },
   "outputs": [],
   "source": [
    "def save_model(model, model_name):\n",
    "    # Генерируем описание модели в формате json\n",
    "    model_json = model.to_json()\n",
    "    # Записываем модель в файл\n",
    "    json_file = open(\"model/{}_model.json\".format(model_name), \"w\")\n",
    "    json_file.write(model_json)\n",
    "    json_file.close()\n",
    "    model.save_weights(\"model/{}_weights.h5\".format(model_name))\n",
    "    print('Модель и веса успешно сохранены!')"
   ]
  },
  {
   "cell_type": "code",
   "execution_count": 58,
   "metadata": {
    "collapsed": false,
    "deletable": true,
    "editable": true
   },
   "outputs": [
    {
     "name": "stdout",
     "output_type": "stream",
     "text": [
      "Модель и веса успешно сохранены!\n"
     ]
    }
   ],
   "source": [
    "save_model(model, 'vk_98percent_cnn')"
   ]
  },
  {
   "cell_type": "code",
   "execution_count": null,
   "metadata": {
    "collapsed": true,
    "deletable": true,
    "editable": true
   },
   "outputs": [],
   "source": []
  }
 ],
 "metadata": {
  "kernelspec": {
   "display_name": "Python 3",
   "language": "python",
   "name": "python3"
  },
  "language_info": {
   "codemirror_mode": {
    "name": "ipython",
    "version": 3
   },
   "file_extension": ".py",
   "mimetype": "text/x-python",
   "name": "python",
   "nbconvert_exporter": "python",
   "pygments_lexer": "ipython3",
   "version": "3.5.2"
  }
 },
 "nbformat": 4,
 "nbformat_minor": 2
}
